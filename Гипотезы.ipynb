{
 "cells": [
  {
   "cell_type": "code",
   "execution_count": 1,
   "metadata": {
    "id": "wHw079YSE5s8"
   },
   "outputs": [],
   "source": [
    "import pandas as pd\n",
    "import numpy as np\n",
    "import matplotlib.pyplot as plt\n",
    "import seaborn as sns\n",
    "from scipy.stats import norm\n",
    "import math\n",
    "from scipy.stats import mannwhitneyu\n",
    "import statsmodels.api as sm"
   ]
  },
  {
   "cell_type": "code",
   "execution_count": 2,
   "metadata": {
    "colab": {
     "base_uri": "https://localhost:8080/",
     "height": 354
    },
    "id": "2pNIitx4EuQw",
    "outputId": "18dca521-0f78-42e9-c56e-86f9dde503d3"
   },
   "outputs": [
    {
     "data": {
      "text/html": [
       "<div>\n",
       "<style scoped>\n",
       "    .dataframe tbody tr th:only-of-type {\n",
       "        vertical-align: middle;\n",
       "    }\n",
       "\n",
       "    .dataframe tbody tr th {\n",
       "        vertical-align: top;\n",
       "    }\n",
       "\n",
       "    .dataframe thead th {\n",
       "        text-align: right;\n",
       "    }\n",
       "</style>\n",
       "<table border=\"1\" class=\"dataframe\">\n",
       "  <thead>\n",
       "    <tr style=\"text-align: right;\">\n",
       "      <th></th>\n",
       "      <th>Rank</th>\n",
       "      <th>Name</th>\n",
       "      <th>Country</th>\n",
       "      <th>Sales</th>\n",
       "      <th>Profit</th>\n",
       "      <th>Assets</th>\n",
       "      <th>MV</th>\n",
       "      <th>Industry</th>\n",
       "      <th>Founded</th>\n",
       "      <th>Employees</th>\n",
       "      <th>Company age</th>\n",
       "      <th>World</th>\n",
       "    </tr>\n",
       "  </thead>\n",
       "  <tbody>\n",
       "    <tr>\n",
       "      <th>0</th>\n",
       "      <td>1</td>\n",
       "      <td>Berkshire Hathaway</td>\n",
       "      <td>United States</td>\n",
       "      <td>276090.0</td>\n",
       "      <td>89800.0</td>\n",
       "      <td>958780.0</td>\n",
       "      <td>741480.0</td>\n",
       "      <td>Diversified Financials</td>\n",
       "      <td>1939</td>\n",
       "      <td>372000.0</td>\n",
       "      <td>84</td>\n",
       "      <td>North America</td>\n",
       "    </tr>\n",
       "    <tr>\n",
       "      <th>1</th>\n",
       "      <td>3</td>\n",
       "      <td>Saudi Arabian Oil Company (Saudi Aramco)</td>\n",
       "      <td>Saudi Arabia</td>\n",
       "      <td>400380.0</td>\n",
       "      <td>105360.0</td>\n",
       "      <td>576040.0</td>\n",
       "      <td>2292080.0</td>\n",
       "      <td>Oil &amp; Gas Operations</td>\n",
       "      <td>1933</td>\n",
       "      <td>68493.0</td>\n",
       "      <td>90</td>\n",
       "      <td>Asia</td>\n",
       "    </tr>\n",
       "    <tr>\n",
       "      <th>2</th>\n",
       "      <td>4</td>\n",
       "      <td>JPMorgan Chase</td>\n",
       "      <td>United States</td>\n",
       "      <td>124540.0</td>\n",
       "      <td>42120.0</td>\n",
       "      <td>3954690.0</td>\n",
       "      <td>374450.0</td>\n",
       "      <td>Banking</td>\n",
       "      <td>2000</td>\n",
       "      <td>270000.0</td>\n",
       "      <td>23</td>\n",
       "      <td>North America</td>\n",
       "    </tr>\n",
       "    <tr>\n",
       "      <th>3</th>\n",
       "      <td>6</td>\n",
       "      <td>Amazon</td>\n",
       "      <td>United States</td>\n",
       "      <td>469820.0</td>\n",
       "      <td>33360.0</td>\n",
       "      <td>420550.0</td>\n",
       "      <td>1468400.0</td>\n",
       "      <td>E-Commerce</td>\n",
       "      <td>1994</td>\n",
       "      <td>1608000.0</td>\n",
       "      <td>29</td>\n",
       "      <td>North America</td>\n",
       "    </tr>\n",
       "    <tr>\n",
       "      <th>4</th>\n",
       "      <td>7</td>\n",
       "      <td>Apple</td>\n",
       "      <td>United States</td>\n",
       "      <td>378700.0</td>\n",
       "      <td>100560.0</td>\n",
       "      <td>381190.0</td>\n",
       "      <td>2640320.0</td>\n",
       "      <td>Electronics</td>\n",
       "      <td>1976</td>\n",
       "      <td>164000.0</td>\n",
       "      <td>47</td>\n",
       "      <td>North America</td>\n",
       "    </tr>\n",
       "  </tbody>\n",
       "</table>\n",
       "</div>"
      ],
      "text/plain": [
       "   Rank                                      Name        Country     Sales  \\\n",
       "0     1                        Berkshire Hathaway  United States  276090.0   \n",
       "1     3  Saudi Arabian Oil Company (Saudi Aramco)   Saudi Arabia  400380.0   \n",
       "2     4                            JPMorgan Chase  United States  124540.0   \n",
       "3     6                                    Amazon  United States  469820.0   \n",
       "4     7                                     Apple  United States  378700.0   \n",
       "\n",
       "     Profit     Assets         MV                Industry  Founded  Employees  \\\n",
       "0   89800.0   958780.0   741480.0  Diversified Financials     1939   372000.0   \n",
       "1  105360.0   576040.0  2292080.0    Oil & Gas Operations     1933    68493.0   \n",
       "2   42120.0  3954690.0   374450.0                 Banking     2000   270000.0   \n",
       "3   33360.0   420550.0  1468400.0              E-Commerce     1994  1608000.0   \n",
       "4  100560.0   381190.0  2640320.0             Electronics     1976   164000.0   \n",
       "\n",
       "   Company age          World  \n",
       "0           84  North America  \n",
       "1           90           Asia  \n",
       "2           23  North America  \n",
       "3           29  North America  \n",
       "4           47  North America  "
      ]
     },
     "execution_count": 2,
     "metadata": {},
     "output_type": "execute_result"
    }
   ],
   "source": [
    "data = pd.read_csv('forbes_new.csv')\n",
    "data.head()"
   ]
  },
  {
   "cell_type": "markdown",
   "metadata": {
    "id": "J6DiubgSIaYV"
   },
   "source": [
    "# 1"
   ]
  },
  {
   "cell_type": "code",
   "execution_count": null,
   "metadata": {
    "colab": {
     "base_uri": "https://localhost:8080/"
    },
    "id": "8AMvlnYavj4z",
    "outputId": "fdbc5ac0-403c-4efe-ef0c-f9c668dbf2a0"
   },
   "outputs": [
    {
     "name": "stdout",
     "output_type": "stream",
     "text": [
      "MV в Азии = 25603.0113452188\n",
      "MV в Южной Америке = 23536.0\n",
      "MV в Северной Америке = 64150.91258741259\n",
      "MV в Африке = 14888.666666666666\n",
      "MV в Европе = 33569.794117647056\n",
      "MV в Авсралии = 40053.46153846154\n",
      "MV в мире = 41117.5015576324\n"
     ]
    }
   ],
   "source": [
    "print('MV в Азии =', data[data.World =='Asia']['MV'].mean())\n",
    "print('MV в Южной Америке =', data[data.World == 'South America']['MV'].mean())\n",
    "print('MV в Северной Америке =', data[data.World == 'North America']['MV'].mean())\n",
    "print('MV в Африке =', data[data.World == 'Africa']['MV'].mean())\n",
    "print('MV в Европе =', data[data.World == 'Europe']['MV'].mean())\n",
    "print('MV в Авсралии =', data[data.World == 'Australia']['MV'].mean())\n",
    "print('MV в мире =', data['MV'].mean())"
   ]
  },
  {
   "cell_type": "code",
   "execution_count": null,
   "metadata": {
    "colab": {
     "base_uri": "https://localhost:8080/",
     "height": 472
    },
    "id": "Rkfaq_Mq5S_G",
    "outputId": "badcf687-7f9d-451c-d01c-afceb9670ba6"
   },
   "outputs": [
    {
     "data": {
      "image/png": "[encoded data removed]",
      "text/plain": [
       "<Figure size 640x480 with 1 Axes>"
      ]
     },
     "metadata": {},
     "output_type": "display_data"
    }
   ],
   "source": [
    "plt.barh(['Asia', 'South America', 'North America', 'Africa', 'Europe', 'Australia'],[data[data.World =='Asia']['MV'].mean(), data[data.World == 'South America']['MV'].mean(), data[data.World == 'North America']['MV'].mean(),\n",
    "          data[data.World == 'Africa']['MV'].mean(), data[data.World == 'Europe']['MV'].mean(), data[data.World == 'Australia']['MV'].mean(),\n",
    "          ], color='green')\n",
    "plt.title('MV по частям света')\n",
    "plt.xlabel('Market Value');"
   ]
  },
  {
   "cell_type": "markdown",
   "metadata": {
    "id": "lGCTc2dKw9bd"
   },
   "source": [
    "Мы видим сильное различие между средним Market Value Северной Америки и в мире. Проверим, различаются ли в действительности распределения Market Value.\n"
   ]
  },
  {
   "cell_type": "markdown",
   "metadata": {
    "id": "EuAq99DHAG4E"
   },
   "source": [
    "## Гипотеза: в компаниях Северной Америки и Остального мира Market Value распределен одинаково против альтернативы о неравенстве распределений"
   ]
  },
  {
   "cell_type": "code",
   "execution_count": null,
   "metadata": {
    "colab": {
     "base_uri": "https://localhost:8080/",
     "height": 564
    },
    "id": "j-wfuSaa-e-h",
    "outputId": "4568d122-36ad-4e35-f1e4-bbcdc6be634b"
   },
   "outputs": [
    {
     "data": {
      "image/png": "[encoded data removed]",
      "text/plain": [
       "<Figure size 1200x600 with 1 Axes>"
      ]
     },
     "metadata": {},
     "output_type": "display_data"
    }
   ],
   "source": [
    "plt.figure(figsize = (12,6))\n",
    "plt.hist(data[data.World != 'North America']['MV'], bins = 50)\n",
    "plt.hist(data[data.World == 'North America']['MV'], bins = 50, color='red')\n",
    "plt.legend(['Северная Америка', 'Остальной мир'])\n",
    "plt.title('Распределение market value в зависимости о частей света')\n",
    "plt.xlabel('Market value')\n",
    "plt.ylabel('Количество компаний');"
   ]
  },
  {
   "cell_type": "code",
   "execution_count": null,
   "metadata": {
    "colab": {
     "base_uri": "https://localhost:8080/"
    },
    "id": "2771f6Br0qUp",
    "outputId": "71920255-5366-4b62-9452-4d4883214a05"
   },
   "outputs": [
    {
     "name": "stdout",
     "output_type": "stream",
     "text": [
      "Отвергаем нулевую гипотезу\n"
     ]
    }
   ],
   "source": [
    "stat, p_value = mannwhitneyu(data[data.World != 'North America']['MV'], data[data.World == 'North America']['MV'], alternative=\"two-sided\")\n",
    "alpha = 0.05\n",
    "if p_value < alpha:\n",
    "    print(\"Отвергаем нулевую гипотезу\")\n",
    "else:\n",
    "    print(\"Не удалось отвергнуть нулевую гипотезу\")"
   ]
  },
  {
   "cell_type": "markdown",
   "metadata": {
    "id": "64z12a9D2xPC"
   },
   "source": [
    "Таким образом, MV в Сеерной Америке и остальном мире действительно распределены неодинаково."
   ]
  },
  {
   "cell_type": "markdown",
   "metadata": {
    "id": "njzDpLvOIg-o"
   },
   "source": [
    "# 2"
   ]
  },
  {
   "cell_type": "markdown",
   "metadata": {
    "id": "uk8oF4931q6k"
   },
   "source": [
    "## Гипотеза: у более старых компаний MV в среднем меньше."
   ]
  },
  {
   "cell_type": "code",
   "execution_count": null,
   "metadata": {
    "colab": {
     "base_uri": "https://localhost:8080/"
    },
    "id": "78zHJAFA1pAB",
    "outputId": "b1b3e1e8-507c-4645-d4e2-a721d65c9b5e"
   },
   "outputs": [
    {
     "data": {
      "text/plain": [
       "67.05669781931464"
      ]
     },
     "execution_count": 8,
     "metadata": {},
     "output_type": "execute_result"
    }
   ],
   "source": [
    "data['Company age'].mean() #будем считать, что старые компании - те, что старше 67 лет"
   ]
  },
  {
   "cell_type": "code",
   "execution_count": null,
   "metadata": {
    "id": "QeTodxR92QIT"
   },
   "outputs": [],
   "source": [
    "old = data[data['Company age']>67]\n",
    "young = data[data['Company age']<=67]"
   ]
  },
  {
   "cell_type": "code",
   "execution_count": null,
   "metadata": {
    "colab": {
     "base_uri": "https://localhost:8080/"
    },
    "id": "jlkHf0eI3nx5",
    "outputId": "09cdafbb-d8a5-48b3-ebee-9e3a32bcd2c8"
   },
   "outputs": [
    {
     "data": {
      "text/plain": [
       "(40382.10634920635, 41592.68)"
      ]
     },
     "execution_count": 10,
     "metadata": {},
     "output_type": "execute_result"
    }
   ],
   "source": [
    "old.MV.mean(), young.MV.mean()"
   ]
  },
  {
   "cell_type": "code",
   "execution_count": null,
   "metadata": {
    "colab": {
     "base_uri": "https://localhost:8080/",
     "height": 564
    },
    "id": "bunrrNWt2eYj",
    "outputId": "bffadf27-8884-418c-b36c-1d1ec041a35d"
   },
   "outputs": [
    {
     "data": {
      "image/png": "[encoded data removed]",
      "text/plain": [
       "<Figure size 1200x600 with 1 Axes>"
      ]
     },
     "metadata": {},
     "output_type": "display_data"
    }
   ],
   "source": [
    "plt.figure(figsize = (12,6))\n",
    "plt.hist(young.MV, bins = 50)\n",
    "plt.hist(old.MV, bins = 50, color='red')\n",
    "plt.legend(['Молодые', 'Старые'])\n",
    "plt.title('Распределение market value в зависимости от возраста')\n",
    "plt.xlabel('Market value')\n",
    "plt.ylabel('Количество компаний');"
   ]
  },
  {
   "cell_type": "markdown",
   "metadata": {
    "id": "thxLFKGe3yZ_"
   },
   "source": [
    "Распределение не нормальное, проверяем z-тестом, тем более количество наблюдений позволяет"
   ]
  },
  {
   "cell_type": "code",
   "execution_count": null,
   "metadata": {
    "colab": {
     "base_uri": "https://localhost:8080/"
    },
    "id": "1hHUZtOs3xSd",
    "outputId": "146f36f8-fd3a-4eb7-bef7-02a87c27aca9"
   },
   "outputs": [
    {
     "name": "stdout",
     "output_type": "stream",
     "text": [
      "Гипотеза не отвергается\n"
     ]
    }
   ],
   "source": [
    "group1 = young['MV']\n",
    "group2 = old['MV']\n",
    "mean1, mean2 = group1.mean(), group2.mean()\n",
    "std1, std2 = group1.std(), group2.std()\n",
    "diff = mean1 - mean2\n",
    "se = np.sqrt((std1**2)/len(group1) + (std2**2)/len(group2))\n",
    "Z_obs = diff / se\n",
    "alpha = 0.05\n",
    "Z_crit = norm.ppf(1-alpha)\n",
    "if Z_crit < Z_obs:\n",
    "    print('Гипотеза отвергается')\n",
    "else:\n",
    "    print('Гипотеза не отвергается')"
   ]
  },
  {
   "cell_type": "markdown",
   "metadata": {
    "id": "3dWNRfTy5Jwx"
   },
   "source": [
    "Нам не удалось отвергнуть гипотезу о том, что молодые компании в среднем имеют такой же market value, как и старые."
   ]
  },
  {
   "cell_type": "markdown",
   "metadata": {
    "id": "xy_cSS6zJ5E-"
   },
   "source": [
    "# 3"
   ]
  },
  {
   "cell_type": "code",
   "execution_count": 14,
   "metadata": {
    "colab": {
     "base_uri": "https://localhost:8080/",
     "height": 487
    },
    "id": "__fEMksVNL0i",
    "outputId": "34b2fdb7-50b0-40b5-beb9-4eabfe2cf62d"
   },
   "outputs": [
    {
     "data": {
      "image/png": "[encoded data removed]",
      "text/plain": [
       "<Figure size 1000x500 with 1 Axes>"
      ]
     },
     "metadata": {},
     "output_type": "display_data"
    }
   ],
   "source": [
    "plt.figure(figsize=(10,5))\n",
    "plt.scatter(data['MV'], data['Assets'], color='red')\n",
    "plt.xlabel('MV')\n",
    "plt.ylabel('Assets')\n",
    "plt.title('Диаграмма рассеяния Assets в зависимости от Market value');"
   ]
  },
  {
   "cell_type": "code",
   "execution_count": 15,
   "metadata": {},
   "outputs": [
    {
     "data": {
      "text/plain": [
       "0.15123458981384247"
      ]
     },
     "execution_count": 15,
     "metadata": {},
     "output_type": "execute_result"
    }
   ],
   "source": [
    "np.corrcoef(data.MV, data.Assets)[0][1]"
   ]
  },
  {
   "cell_type": "markdown",
   "metadata": {},
   "source": [
    "Итак, можно наблюдать достаточно низкую корреляцию между MV и Assets. Проверим гипотезу о том, что корреляция вообще равна 0"
   ]
  },
  {
   "cell_type": "markdown",
   "metadata": {},
   "source": [
    "## Гипотеза: корреляция между MV и Assets равна 0 (против альтернативы о неравенстве)"
   ]
  },
  {
   "cell_type": "code",
   "execution_count": 10,
   "metadata": {},
   "outputs": [
    {
     "name": "stderr",
     "output_type": "stream",
     "text": [
      "C:\\Users\\1\\AppData\\Local\\Temp\\ipykernel_7712\\1835008781.py:5: SettingWithCopyWarning: \n",
      "A value is trying to be set on a copy of a slice from a DataFrame.\n",
      "Try using .loc[row_indexer,col_indexer] = value instead\n",
      "\n",
      "See the caveats in the documentation: https://pandas.pydata.org/pandas-docs/stable/user_guide/indexing.html#returning-a-view-versus-a-copy\n",
      "  df['Перестановка'] = np.random.permutation(df['Assets'])\n"
     ]
    },
    {
     "data": {
      "image/png": "[encoded data removed]",
      "text/plain": [
       "<Figure size 640x480 with 1 Axes>"
      ]
     },
     "metadata": {},
     "output_type": "display_data"
    }
   ],
   "source": [
    "#используем перестановочный тест\n",
    "np.random.seed(42)\n",
    "df = data[['Assets', 'MV']]\n",
    "corrs = []\n",
    "for i in range(10000):\n",
    "    df['Перестановка'] = np.random.permutation(df['Assets'])\n",
    "    E_Y_mean = sum(df['Перестановка'])/len(df['Перестановка'])\n",
    "    E_F_mean = sum(df['MV'])/len(df['MV'])\n",
    "    s_Y = math.sqrt(sum((df['Перестановка'] - E_Y_mean)**2)/(len(df['Перестановка'])-1))\n",
    "    s_F = math.sqrt(sum((df['MV'] - E_F_mean)**2)/(len(df['MV'])-1))\n",
    "    cov = sum((df['MV'] - E_F_mean)*(df['Перестановка'] - E_Y_mean))/(len(df['Перестановка'])-1)\n",
    "    corr = cov/(s_Y*s_F)\n",
    "    corrs.append(corr)\n",
    "plt.hist(corrs, bins = 100)\n",
    "plt.title('Гистограмма корреляций в бутстрапированных выборках');"
   ]
  },
  {
   "cell_type": "code",
   "execution_count": 11,
   "metadata": {},
   "outputs": [
    {
     "data": {
      "text/plain": [
       "(-0.027296891306323637, 0.07223130893482835)"
      ]
     },
     "execution_count": 11,
     "metadata": {},
     "output_type": "execute_result"
    }
   ],
   "source": [
    "quantile_l = np.quantile(corrs, 0.025)\n",
    "quantile_r = np.quantile(corrs, 0.975)\n",
    "quantile_l, quantile_r"
   ]
  },
  {
   "cell_type": "markdown",
   "metadata": {},
   "source": [
    "Наблюдаемое значение корреляции больше правого квантиля => гипотеза о том, что корреляция между MV и Assets равна 0, отвергается"
   ]
  },
  {
   "cell_type": "markdown",
   "metadata": {
    "id": "ZDiTf-WejzxI"
   },
   "source": [
    "# 4"
   ]
  },
  {
   "cell_type": "markdown",
   "metadata": {
    "id": "pEAbsRXKj29m"
   },
   "source": [
    "Возьмем топ-2 индустрии по количеству компаний и посмотрим на их Market values"
   ]
  },
  {
   "cell_type": "code",
   "execution_count": null,
   "metadata": {
    "colab": {
     "base_uri": "https://localhost:8080/"
    },
    "id": "PQLZAggyjsg8",
    "outputId": "c3569c33-6a30-4bb1-e830-333f30eaa341"
   },
   "outputs": [
    {
     "data": {
      "text/plain": [
       "(590985.5555555555, 62642.808219178085)"
      ]
     },
     "execution_count": 28,
     "metadata": {},
     "output_type": "execute_result"
    }
   ],
   "source": [
    "data[data.Industry == 'Electronics'].MV.mean(), data[data.Industry == 'Oil & Gas Operations'].MV.mean()"
   ]
  },
  {
   "cell_type": "markdown",
   "metadata": {
    "id": "3dAKI1j7kJl3"
   },
   "source": [
    "Проверим гипотезу о том, что в среднем MV у топ-2 индустрий одинаковый против альтернативы о неравенстве"
   ]
  },
  {
   "cell_type": "code",
   "execution_count": null,
   "metadata": {
    "colab": {
     "base_uri": "https://localhost:8080/"
    },
    "id": "cvgyEVt2kI1f",
    "outputId": "c7b89a5b-8e95-42ad-ea7d-3cf5470375ef"
   },
   "outputs": [
    {
     "name": "stdout",
     "output_type": "stream",
     "text": [
      "Гипотеза не отвергается\n"
     ]
    }
   ],
   "source": [
    "group1 = data[data.Industry == 'Electronics'].MV\n",
    "group2 = data[data.Industry == 'Oil & Gas Operations'].MV\n",
    "mean1, mean2 = group1.mean(), group2.mean()\n",
    "std1, std2 = group1.std(), group2.std()\n",
    "diff = mean1 - mean2\n",
    "se = np.sqrt((std1**2)/len(group1) + (std2**2)/len(group2))\n",
    "Z_obs = diff / se\n",
    "alpha = 0.05\n",
    "Z_crit = norm.ppf(1-alpha/2)\n",
    "if Z_crit < Z_obs or -Z_crit>Z_obs :\n",
    "    print('Гипотеза отвергается')\n",
    "else:\n",
    "    print('Гипотеза не отвергается')"
   ]
  },
  {
   "cell_type": "code",
   "execution_count": null,
   "metadata": {
    "colab": {
     "base_uri": "https://localhost:8080/"
    },
    "id": "4FFpu1MDpnzN",
    "outputId": "5ff2a398-7dc1-469f-be45-dd06b012f733"
   },
   "outputs": [
    {
     "data": {
      "text/plain": [
       "(1.5588164392081956, 1.959963984540054)"
      ]
     },
     "execution_count": 66,
     "metadata": {},
     "output_type": "execute_result"
    }
   ],
   "source": [
    "Z_obs, Z_crit"
   ]
  },
  {
   "cell_type": "markdown",
   "metadata": {
    "id": "cSn3lQnIlG-L"
   },
   "source": [
    "Гипотеза о равенстве Market values у топ-2 индустрий не отвергается"
   ]
  },
  {
   "cell_type": "markdown",
   "metadata": {
    "id": "PnweE48-qDe9"
   },
   "source": [
    "# 5"
   ]
  },
  {
   "cell_type": "markdown",
   "metadata": {
    "id": "nY2l85MAlnBm"
   },
   "source": [
    "Проверим гипотезу о том, что MV у топ-5 индустрий в среднем такой же, как в остальных индустриях против гипотезы о том, что в топ-5 компаниях MV больше"
   ]
  },
  {
   "cell_type": "code",
   "execution_count": null,
   "metadata": {
    "id": "EnId5e3bl0aK"
   },
   "outputs": [],
   "source": [
    "group1 = data[(data.Industry == 'Electronics')| (data.Industry == 'Oil & Gas Operations') |\n",
    "     (data.Industry == 'Drugs & Biotechnology')| (data.Industry == 'Banking')| (data.Industry == 'IT, Internet, Software & Services')].MV\n",
    "group2 = data[(data.Industry != 'Electronics')| (data.Industry != 'Oil & Gas Operations') |\n",
    "     (data.Industry != 'Drugs & Biotechnology')| (data.Industry != 'Banking')| (data.Industry != 'IT, Internet, Software & Services')].MV"
   ]
  },
  {
   "cell_type": "code",
   "execution_count": null,
   "metadata": {
    "colab": {
     "base_uri": "https://localhost:8080/"
    },
    "id": "DiWr1oQ5oLBS",
    "outputId": "4dae3fbe-ba08-4ad5-86d0-daa0f5030a9d"
   },
   "outputs": [
    {
     "data": {
      "text/plain": [
       "(63968.03363914373, 41117.5015576324)"
      ]
     },
     "execution_count": 53,
     "metadata": {},
     "output_type": "execute_result"
    }
   ],
   "source": [
    "group1.mean(), group2.mean()"
   ]
  },
  {
   "cell_type": "code",
   "execution_count": null,
   "metadata": {
    "colab": {
     "base_uri": "https://localhost:8080/"
    },
    "id": "sZQuYzqnk-sa",
    "outputId": "14cbee3b-64e2-4dc3-d6d2-89602ae618f1"
   },
   "outputs": [
    {
     "name": "stdout",
     "output_type": "stream",
     "text": [
      "Гипотеза не отвергается\n"
     ]
    }
   ],
   "source": [
    "mean1, mean2 = group1.mean(), group2.mean()\n",
    "std1, std2 = group1.std(), group2.std()\n",
    "diff = mean1 - mean2\n",
    "se = np.sqrt((std1**2)/len(group1) + (std2**2)/len(group2))\n",
    "Z_obs = diff / se\n",
    "alpha = 0.05\n",
    "Z_crit = norm.ppf(1-alpha)\n",
    "if Z_crit < Z_obs :\n",
    "    print('Гипотеза отвергается')\n",
    "else:\n",
    "    print('Гипотеза не отвергается')"
   ]
  },
  {
   "cell_type": "markdown",
   "metadata": {
    "id": "UdwqQ3_NqbNg"
   },
   "source": [
    "Гипотеза о том, что MV равны у топ-5 индустрий и у остальных индустрий, не отвергается на уровне значимости 5%"
   ]
  }
 ],
 "metadata": {
  "colab": {
   "provenance": []
  },
  "kernelspec": {
   "display_name": "Python 3 (ipykernel)",
   "language": "python",
   "name": "python3"
  },
  "language_info": {
   "codemirror_mode": {
    "name": "ipython",
    "version": 3
   },
   "file_extension": ".py",
   "mimetype": "text/x-python",
   "name": "python",
   "nbconvert_exporter": "python",
   "pygments_lexer": "ipython3",
   "version": "3.10.9"
  }
 },
 "nbformat": 4,
 "nbformat_minor": 1
}
