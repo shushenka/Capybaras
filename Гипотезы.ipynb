{
  "nbformat": 4,
  "nbformat_minor": 0,
  "metadata": {
    "colab": {
      "provenance": []
    },
    "kernelspec": {
      "name": "python3",
      "display_name": "Python 3"
    },
    "language_info": {
      "name": "python"
    }
  },
  "cells": [
    {
      "cell_type": "code",
      "source": [
        "import pandas as pd\n",
        "import numpy as np\n",
        "import matplotlib.pyplot as plt\n",
        "import seaborn as sns\n",
        "from scipy.stats import norm\n",
        "import math\n",
        "from scipy.stats import mannwhitneyu\n",
        "import statsmodels.api as sm"
      ],
      "metadata": {
        "id": "wHw079YSE5s8"
      },
      "execution_count": null,
      "outputs": []
    },
    {
      "cell_type": "code",
      "execution_count": null,
      "metadata": {
        "colab": {
          "base_uri": "https://localhost:8080/",
          "height": 354
        },
        "id": "2pNIitx4EuQw",
        "outputId": "18dca521-0f78-42e9-c56e-86f9dde503d3"
      },
      "outputs": [
        {
          "output_type": "execute_result",
          "data": {
            "text/plain": [
              "   Rank                                      Name        Country     Sales  \\\n",
              "0     1                        Berkshire Hathaway  United States  276090.0   \n",
              "1     3  Saudi Arabian Oil Company (Saudi Aramco)   Saudi Arabia  400380.0   \n",
              "2     4                            JPMorgan Chase  United States  124540.0   \n",
              "3     6                                    Amazon  United States  469820.0   \n",
              "4     7                                     Apple  United States  378700.0   \n",
              "\n",
              "     Profit     Assets         MV                Industry  Founded  Employees  \\\n",
              "0   89800.0   958780.0   741480.0  Diversified Financials     1939   372000.0   \n",
              "1  105360.0   576040.0  2292080.0    Oil & Gas Operations     1933    68493.0   \n",
              "2   42120.0  3954690.0   374450.0                 Banking     2000   270000.0   \n",
              "3   33360.0   420550.0  1468400.0              E-Commerce     1994  1608000.0   \n",
              "4  100560.0   381190.0  2640320.0             Electronics     1976   164000.0   \n",
              "\n",
              "   Company age          World  \n",
              "0           84  North America  \n",
              "1           90           Asia  \n",
              "2           23  North America  \n",
              "3           29  North America  \n",
              "4           47  North America  "
            ],
            "text/html": [
              "\n",
              "  <div id=\"df-56ebac87-e3fa-4ae8-89cb-c10235c8d4b4\">\n",
              "    <div class=\"colab-df-container\">\n",
              "      <div>\n",
              "<style scoped>\n",
              "    .dataframe tbody tr th:only-of-type {\n",
              "        vertical-align: middle;\n",
              "    }\n",
              "\n",
              "    .dataframe tbody tr th {\n",
              "        vertical-align: top;\n",
              "    }\n",
              "\n",
              "    .dataframe thead th {\n",
              "        text-align: right;\n",
              "    }\n",
              "</style>\n",
              "<table border=\"1\" class=\"dataframe\">\n",
              "  <thead>\n",
              "    <tr style=\"text-align: right;\">\n",
              "      <th></th>\n",
              "      <th>Rank</th>\n",
              "      <th>Name</th>\n",
              "      <th>Country</th>\n",
              "      <th>Sales</th>\n",
              "      <th>Profit</th>\n",
              "      <th>Assets</th>\n",
              "      <th>MV</th>\n",
              "      <th>Industry</th>\n",
              "      <th>Founded</th>\n",
              "      <th>Employees</th>\n",
              "      <th>Company age</th>\n",
              "      <th>World</th>\n",
              "    </tr>\n",
              "  </thead>\n",
              "  <tbody>\n",
              "    <tr>\n",
              "      <th>0</th>\n",
              "      <td>1</td>\n",
              "      <td>Berkshire Hathaway</td>\n",
              "      <td>United States</td>\n",
              "      <td>276090.0</td>\n",
              "      <td>89800.0</td>\n",
              "      <td>958780.0</td>\n",
              "      <td>741480.0</td>\n",
              "      <td>Diversified Financials</td>\n",
              "      <td>1939</td>\n",
              "      <td>372000.0</td>\n",
              "      <td>84</td>\n",
              "      <td>North America</td>\n",
              "    </tr>\n",
              "    <tr>\n",
              "      <th>1</th>\n",
              "      <td>3</td>\n",
              "      <td>Saudi Arabian Oil Company (Saudi Aramco)</td>\n",
              "      <td>Saudi Arabia</td>\n",
              "      <td>400380.0</td>\n",
              "      <td>105360.0</td>\n",
              "      <td>576040.0</td>\n",
              "      <td>2292080.0</td>\n",
              "      <td>Oil &amp; Gas Operations</td>\n",
              "      <td>1933</td>\n",
              "      <td>68493.0</td>\n",
              "      <td>90</td>\n",
              "      <td>Asia</td>\n",
              "    </tr>\n",
              "    <tr>\n",
              "      <th>2</th>\n",
              "      <td>4</td>\n",
              "      <td>JPMorgan Chase</td>\n",
              "      <td>United States</td>\n",
              "      <td>124540.0</td>\n",
              "      <td>42120.0</td>\n",
              "      <td>3954690.0</td>\n",
              "      <td>374450.0</td>\n",
              "      <td>Banking</td>\n",
              "      <td>2000</td>\n",
              "      <td>270000.0</td>\n",
              "      <td>23</td>\n",
              "      <td>North America</td>\n",
              "    </tr>\n",
              "    <tr>\n",
              "      <th>3</th>\n",
              "      <td>6</td>\n",
              "      <td>Amazon</td>\n",
              "      <td>United States</td>\n",
              "      <td>469820.0</td>\n",
              "      <td>33360.0</td>\n",
              "      <td>420550.0</td>\n",
              "      <td>1468400.0</td>\n",
              "      <td>E-Commerce</td>\n",
              "      <td>1994</td>\n",
              "      <td>1608000.0</td>\n",
              "      <td>29</td>\n",
              "      <td>North America</td>\n",
              "    </tr>\n",
              "    <tr>\n",
              "      <th>4</th>\n",
              "      <td>7</td>\n",
              "      <td>Apple</td>\n",
              "      <td>United States</td>\n",
              "      <td>378700.0</td>\n",
              "      <td>100560.0</td>\n",
              "      <td>381190.0</td>\n",
              "      <td>2640320.0</td>\n",
              "      <td>Electronics</td>\n",
              "      <td>1976</td>\n",
              "      <td>164000.0</td>\n",
              "      <td>47</td>\n",
              "      <td>North America</td>\n",
              "    </tr>\n",
              "  </tbody>\n",
              "</table>\n",
              "</div>\n",
              "      <button class=\"colab-df-convert\" onclick=\"convertToInteractive('df-56ebac87-e3fa-4ae8-89cb-c10235c8d4b4')\"\n",
              "              title=\"Convert this dataframe to an interactive table.\"\n",
              "              style=\"display:none;\">\n",
              "        \n",
              "  <svg xmlns=\"http://www.w3.org/2000/svg\" height=\"24px\"viewBox=\"0 0 24 24\"\n",
              "       width=\"24px\">\n",
              "    <path d=\"M0 0h24v24H0V0z\" fill=\"none\"/>\n",
              "    <path d=\"M18.56 5.44l.94 2.06.94-2.06 2.06-.94-2.06-.94-.94-2.06-.94 2.06-2.06.94zm-11 1L8.5 8.5l.94-2.06 2.06-.94-2.06-.94L8.5 2.5l-.94 2.06-2.06.94zm10 10l.94 2.06.94-2.06 2.06-.94-2.06-.94-.94-2.06-.94 2.06-2.06.94z\"/><path d=\"M17.41 7.96l-1.37-1.37c-.4-.4-.92-.59-1.43-.59-.52 0-1.04.2-1.43.59L10.3 9.45l-7.72 7.72c-.78.78-.78 2.05 0 2.83L4 21.41c.39.39.9.59 1.41.59.51 0 1.02-.2 1.41-.59l7.78-7.78 2.81-2.81c.8-.78.8-2.07 0-2.86zM5.41 20L4 18.59l7.72-7.72 1.47 1.35L5.41 20z\"/>\n",
              "  </svg>\n",
              "      </button>\n",
              "      \n",
              "  <style>\n",
              "    .colab-df-container {\n",
              "      display:flex;\n",
              "      flex-wrap:wrap;\n",
              "      gap: 12px;\n",
              "    }\n",
              "\n",
              "    .colab-df-convert {\n",
              "      background-color: #E8F0FE;\n",
              "      border: none;\n",
              "      border-radius: 50%;\n",
              "      cursor: pointer;\n",
              "      display: none;\n",
              "      fill: #1967D2;\n",
              "      height: 32px;\n",
              "      padding: 0 0 0 0;\n",
              "      width: 32px;\n",
              "    }\n",
              "\n",
              "    .colab-df-convert:hover {\n",
              "      background-color: #E2EBFA;\n",
              "      box-shadow: 0px 1px 2px rgba(60, 64, 67, 0.3), 0px 1px 3px 1px rgba(60, 64, 67, 0.15);\n",
              "      fill: #174EA6;\n",
              "    }\n",
              "\n",
              "    [theme=dark] .colab-df-convert {\n",
              "      background-color: #3B4455;\n",
              "      fill: #D2E3FC;\n",
              "    }\n",
              "\n",
              "    [theme=dark] .colab-df-convert:hover {\n",
              "      background-color: #434B5C;\n",
              "      box-shadow: 0px 1px 3px 1px rgba(0, 0, 0, 0.15);\n",
              "      filter: drop-shadow(0px 1px 2px rgba(0, 0, 0, 0.3));\n",
              "      fill: #FFFFFF;\n",
              "    }\n",
              "  </style>\n",
              "\n",
              "      <script>\n",
              "        const buttonEl =\n",
              "          document.querySelector('#df-56ebac87-e3fa-4ae8-89cb-c10235c8d4b4 button.colab-df-convert');\n",
              "        buttonEl.style.display =\n",
              "          google.colab.kernel.accessAllowed ? 'block' : 'none';\n",
              "\n",
              "        async function convertToInteractive(key) {\n",
              "          const element = document.querySelector('#df-56ebac87-e3fa-4ae8-89cb-c10235c8d4b4');\n",
              "          const dataTable =\n",
              "            await google.colab.kernel.invokeFunction('convertToInteractive',\n",
              "                                                     [key], {});\n",
              "          if (!dataTable) return;\n",
              "\n",
              "          const docLinkHtml = 'Like what you see? Visit the ' +\n",
              "            '<a target=\"_blank\" href=https://colab.research.google.com/notebooks/data_table.ipynb>data table notebook</a>'\n",
              "            + ' to learn more about interactive tables.';\n",
              "          element.innerHTML = '';\n",
              "          dataTable['output_type'] = 'display_data';\n",
              "          await google.colab.output.renderOutput(dataTable, element);\n",
              "          const docLink = document.createElement('div');\n",
              "          docLink.innerHTML = docLinkHtml;\n",
              "          element.appendChild(docLink);\n",
              "        }\n",
              "      </script>\n",
              "    </div>\n",
              "  </div>\n",
              "  "
            ]
          },
          "metadata": {},
          "execution_count": 3
        }
      ],
      "source": [
        "data = pd.read_csv('forbes_new.csv')\n",
        "data.head()"
      ]
    },
    {
      "cell_type": "markdown",
      "source": [
        "#1"
      ],
      "metadata": {
        "id": "J6DiubgSIaYV"
      }
    },
    {
      "cell_type": "code",
      "source": [
        "print('MV в Азии =', data[data.World =='Asia']['MV'].mean())\n",
        "print('MV в Южной Америке =', data[data.World == 'South America']['MV'].mean())\n",
        "print('MV в Северной Америке =', data[data.World == 'North America']['MV'].mean())\n",
        "print('MV в Африке =', data[data.World == 'Africa']['MV'].mean())\n",
        "print('MV в Европе =', data[data.World == 'Europe']['MV'].mean())\n",
        "print('MV в Авсралии =', data[data.World == 'Australia']['MV'].mean())\n",
        "print('MV в мире =', data['MV'].mean())"
      ],
      "metadata": {
        "colab": {
          "base_uri": "https://localhost:8080/"
        },
        "id": "8AMvlnYavj4z",
        "outputId": "fdbc5ac0-403c-4efe-ef0c-f9c668dbf2a0"
      },
      "execution_count": null,
      "outputs": [
        {
          "output_type": "stream",
          "name": "stdout",
          "text": [
            "MV в Азии = 25603.0113452188\n",
            "MV в Южной Америке = 23536.0\n",
            "MV в Северной Америке = 64150.91258741259\n",
            "MV в Африке = 14888.666666666666\n",
            "MV в Европе = 33569.794117647056\n",
            "MV в Авсралии = 40053.46153846154\n",
            "MV в мире = 41117.5015576324\n"
          ]
        }
      ]
    },
    {
      "cell_type": "code",
      "source": [
        "plt.barh(['Asia', 'South America', 'North America', 'Africa', 'Europe', 'Australia'],[data[data.World =='Asia']['MV'].mean(), data[data.World == 'South America']['MV'].mean(), data[data.World == 'North America']['MV'].mean(),\n",
        "          data[data.World == 'Africa']['MV'].mean(), data[data.World == 'Europe']['MV'].mean(), data[data.World == 'Australia']['MV'].mean(),\n",
        "          ], color='green')\n",
        "plt.title('MV по частям света')\n",
        "plt.xlabel('Market Value');"
      ],
      "metadata": {
        "colab": {
          "base_uri": "https://localhost:8080/",
          "height": 472
        },
        "id": "Rkfaq_Mq5S_G",
        "outputId": "badcf687-7f9d-451c-d01c-afceb9670ba6"
      },
      "execution_count": null,
      "outputs": [
        {
          "output_type": "display_data",
          "data": {
            "text/plain": [
              "<Figure size 640x480 with 1 Axes>"
            ],
            "image/png": "[encoded data removed]"
          },
          "metadata": {}
        }
      ]
    },
    {
      "cell_type": "markdown",
      "source": [
        "Мы видим сильное различие между средним Market Value Северной Америки и в мире. Проверим, различаются ли в действительности распределения Market Value.\n"
      ],
      "metadata": {
        "id": "lGCTc2dKw9bd"
      }
    },
    {
      "cell_type": "markdown",
      "source": [
        "## Гипотеза: в компаниях Северной Америки и Остального мира Market Value распределен одинаково против альтернативы о неравенстве распределений"
      ],
      "metadata": {
        "id": "EuAq99DHAG4E"
      }
    },
    {
      "cell_type": "code",
      "source": [
        "plt.figure(figsize = (12,6))\n",
        "plt.hist(data[data.World != 'North America']['MV'], bins = 50)\n",
        "plt.hist(data[data.World == 'North America']['MV'], bins = 50, color='red')\n",
        "plt.legend(['Северная Америка', 'Остальной мир'])\n",
        "plt.title('Распределение market value в зависимости о частей света')\n",
        "plt.xlabel('Market value')\n",
        "plt.ylabel('Количество компаний');"
      ],
      "metadata": {
        "colab": {
          "base_uri": "https://localhost:8080/",
          "height": 564
        },
        "id": "j-wfuSaa-e-h",
        "outputId": "4568d122-36ad-4e35-f1e4-bbcdc6be634b"
      },
      "execution_count": null,
      "outputs": [
        {
          "output_type": "display_data",
          "data": {
            "text/plain": [
              "<Figure size 1200x600 with 1 Axes>"
            ],
            "image/png": "[encoded data removed]"
          },
          "metadata": {}
        }
      ]
    },
    {
      "cell_type": "code",
      "source": [
        "stat, p_value = mannwhitneyu(data[data.World != 'North America']['MV'], data[data.World == 'North America']['MV'], alternative=\"two-sided\")\n",
        "alpha = 0.05\n",
        "if p_value < alpha:\n",
        "    print(\"Отвергаем нулевую гипотезу\")\n",
        "else:\n",
        "    print(\"Не удалось отвергнуть нулевую гипотезу\")"
      ],
      "metadata": {
        "colab": {
          "base_uri": "https://localhost:8080/"
        },
        "id": "2771f6Br0qUp",
        "outputId": "71920255-5366-4b62-9452-4d4883214a05"
      },
      "execution_count": null,
      "outputs": [
        {
          "output_type": "stream",
          "name": "stdout",
          "text": [
            "Отвергаем нулевую гипотезу\n"
          ]
        }
      ]
    },
    {
      "cell_type": "markdown",
      "source": [
        "Таким образом, MV в Сеерной Америке и остальном мире действительно распределены неодинаково."
      ],
      "metadata": {
        "id": "64z12a9D2xPC"
      }
    },
    {
      "cell_type": "markdown",
      "source": [
        "#2"
      ],
      "metadata": {
        "id": "njzDpLvOIg-o"
      }
    },
    {
      "cell_type": "markdown",
      "source": [
        "##Гипотеза: у более старых компаний MV в среднем меньше."
      ],
      "metadata": {
        "id": "uk8oF4931q6k"
      }
    },
    {
      "cell_type": "code",
      "source": [
        "data['Company age'].mean() #будем считать, что старые компании - те, что старше 67 лет"
      ],
      "metadata": {
        "colab": {
          "base_uri": "https://localhost:8080/"
        },
        "id": "78zHJAFA1pAB",
        "outputId": "b1b3e1e8-507c-4645-d4e2-a721d65c9b5e"
      },
      "execution_count": null,
      "outputs": [
        {
          "output_type": "execute_result",
          "data": {
            "text/plain": [
              "67.05669781931464"
            ]
          },
          "metadata": {},
          "execution_count": 8
        }
      ]
    },
    {
      "cell_type": "code",
      "source": [
        "old = data[data['Company age']>67]\n",
        "young = data[data['Company age']<=67]"
      ],
      "metadata": {
        "id": "QeTodxR92QIT"
      },
      "execution_count": null,
      "outputs": []
    },
    {
      "cell_type": "code",
      "source": [
        "old.MV.mean(), young.MV.mean()"
      ],
      "metadata": {
        "colab": {
          "base_uri": "https://localhost:8080/"
        },
        "id": "jlkHf0eI3nx5",
        "outputId": "09cdafbb-d8a5-48b3-ebee-9e3a32bcd2c8"
      },
      "execution_count": null,
      "outputs": [
        {
          "output_type": "execute_result",
          "data": {
            "text/plain": [
              "(40382.10634920635, 41592.68)"
            ]
          },
          "metadata": {},
          "execution_count": 10
        }
      ]
    },
    {
      "cell_type": "code",
      "source": [
        "plt.figure(figsize = (12,6))\n",
        "plt.hist(young.MV, bins = 50)\n",
        "plt.hist(old.MV, bins = 50, color='red')\n",
        "plt.legend(['Молодые', 'Старые'])\n",
        "plt.title('Распределение market value в зависимости от возраста')\n",
        "plt.xlabel('Market value')\n",
        "plt.ylabel('Количество компаний');"
      ],
      "metadata": {
        "colab": {
          "base_uri": "https://localhost:8080/",
          "height": 564
        },
        "id": "bunrrNWt2eYj",
        "outputId": "bffadf27-8884-418c-b36c-1d1ec041a35d"
      },
      "execution_count": null,
      "outputs": [
        {
          "output_type": "display_data",
          "data": {
            "text/plain": [
              "<Figure size 1200x600 with 1 Axes>"
            ],
            "image/png": "[encoded data removed]"
          },
          "metadata": {}
        }
      ]
    },
    {
      "cell_type": "markdown",
      "source": [
        "Распределение не нормальное, проверяем z-тестом, тем более количество наблюдений позволяет"
      ],
      "metadata": {
        "id": "thxLFKGe3yZ_"
      }
    },
    {
      "cell_type": "code",
      "source": [
        "group1 = young['MV']\n",
        "group2 = old['MV']\n",
        "mean1, mean2 = group1.mean(), group2.mean()\n",
        "std1, std2 = group1.std(), group2.std()\n",
        "diff = mean1 - mean2\n",
        "se = np.sqrt((std1**2)/len(group1) + (std2**2)/len(group2))\n",
        "Z_obs = diff / se\n",
        "alpha = 0.05\n",
        "Z_crit = norm.ppf(1-alpha)\n",
        "if Z_crit < Z_obs:\n",
        "    print('Гипотеза отвергается')\n",
        "else:\n",
        "    print('Гипотеза не отвергается')"
      ],
      "metadata": {
        "colab": {
          "base_uri": "https://localhost:8080/"
        },
        "id": "1hHUZtOs3xSd",
        "outputId": "146f36f8-fd3a-4eb7-bef7-02a87c27aca9"
      },
      "execution_count": null,
      "outputs": [
        {
          "output_type": "stream",
          "name": "stdout",
          "text": [
            "Гипотеза не отвергается\n"
          ]
        }
      ]
    },
    {
      "cell_type": "markdown",
      "source": [
        "Нам не удалось отвергнуть гипотезу о том, что молодые компании в среднем имеют такой же market value, как и старые."
      ],
      "metadata": {
        "id": "3dWNRfTy5Jwx"
      }
    },
    {
      "cell_type": "markdown",
      "source": [
        "#3"
      ],
      "metadata": {
        "id": "xy_cSS6zJ5E-"
      }
    },
    {
      "cell_type": "code",
      "source": [
        "plt.figure(figsize=(10,5))\n",
        "plt.scatter(data['MV'], data['Sales'])\n",
        "plt.scatter(data['MV'], data['Profit'], c='red')\n",
        "plt.xlabel('MV')\n",
        "plt.ylabel('Profit / Sales')\n",
        "plt.legend(['Sales', 'Profit'])\n",
        "plt.title('Диаграмма рассеяния Profit и Sales в зависимости от Market value');"
      ],
      "metadata": {
        "colab": {
          "base_uri": "https://localhost:8080/",
          "height": 487
        },
        "id": "__fEMksVNL0i",
        "outputId": "34b2fdb7-50b0-40b5-beb9-4eabfe2cf62d"
      },
      "execution_count": null,
      "outputs": [
        {
          "output_type": "display_data",
          "data": {
            "text/plain": [
              "<Figure size 1000x500 with 1 Axes>"
            ],
            "image/png": "[encoded data removed]"
          },
          "metadata": {}
        }
      ]
    },
    {
      "cell_type": "markdown",
      "source": [
        "##Гипотеза: Profit влияет на Market value больше, чем Sales"
      ],
      "metadata": {
        "id": "NqfyesS9J_p5"
      }
    },
    {
      "cell_type": "code",
      "source": [
        "y = data[\"MV\"]\n",
        "X = data[[\"Sales\", \"Profit\"]]\n",
        "X = sm.add_constant(X)\n",
        "model = sm.OLS(y, X).fit()\n",
        "print(model.summary())"
      ],
      "metadata": {
        "colab": {
          "base_uri": "https://localhost:8080/"
        },
        "id": "fxz5Ob3aKVSP",
        "outputId": "bf2041ee-b1eb-41b6-9bef-3ca83e7d238b"
      },
      "execution_count": null,
      "outputs": [
        {
          "output_type": "stream",
          "name": "stdout",
          "text": [
            "                            OLS Regression Results                            \n",
            "==============================================================================\n",
            "Dep. Variable:                     MV   R-squared:                       0.690\n",
            "Model:                            OLS   Adj. R-squared:                  0.689\n",
            "Method:                 Least Squares   F-statistic:                     1782.\n",
            "Date:                Sun, 04 Jun 2023   Prob (F-statistic):               0.00\n",
            "Time:                        11:55:15   Log-Likelihood:                -20222.\n",
            "No. Observations:                1605   AIC:                         4.045e+04\n",
            "Df Residuals:                    1602   BIC:                         4.047e+04\n",
            "Df Model:                           2                                         \n",
            "Covariance Type:            nonrobust                                         \n",
            "==============================================================================\n",
            "                 coef    std err          t      P>|t|      [0.025      0.975]\n",
            "------------------------------------------------------------------------------\n",
            "const      -3427.2968   2077.202     -1.650      0.099   -7501.615     647.022\n",
            "Sales          0.1249      0.054      2.295      0.022       0.018       0.232\n",
            "Profit        16.2815      0.366     44.479      0.000      15.563      16.999\n",
            "==============================================================================\n",
            "Omnibus:                     1571.922   Durbin-Watson:                   1.915\n",
            "Prob(Omnibus):                  0.000   Jarque-Bera (JB):           407810.989\n",
            "Skew:                           3.992   Prob(JB):                         0.00\n",
            "Kurtosis:                      80.681   Cond. No.                     5.77e+04\n",
            "==============================================================================\n",
            "\n",
            "Notes:\n",
            "[1] Standard Errors assume that the covariance matrix of the errors is correctly specified.\n",
            "[2] The condition number is large, 5.77e+04. This might indicate that there are\n",
            "strong multicollinearity or other numerical problems.\n"
          ]
        }
      ]
    },
    {
      "cell_type": "markdown",
      "source": [
        "p-value у Sales (=0.022) больше => Sales меньше влияет на Market value. Более того, если бы модель строилась только на этих двух признаках, то гипотеза о том, что Sales вообще как-то влияет на Market value, отергалась бы на уровне значимости $\\alpha$=1%"
      ],
      "metadata": {
        "id": "K_aVNsWPLJpM"
      }
    },
    {
      "cell_type": "markdown",
      "source": [
        "# 4"
      ],
      "metadata": {
        "id": "ZDiTf-WejzxI"
      }
    },
    {
      "cell_type": "markdown",
      "source": [
        "Возьмем топ-2 индустрии по количеству компаний и посмотрим на их Market values"
      ],
      "metadata": {
        "id": "pEAbsRXKj29m"
      }
    },
    {
      "cell_type": "code",
      "source": [
        "data[data.Industry == 'Electronics'].MV.mean(), data[data.Industry == 'Oil & Gas Operations'].MV.mean()"
      ],
      "metadata": {
        "colab": {
          "base_uri": "https://localhost:8080/"
        },
        "id": "PQLZAggyjsg8",
        "outputId": "c3569c33-6a30-4bb1-e830-333f30eaa341"
      },
      "execution_count": null,
      "outputs": [
        {
          "output_type": "execute_result",
          "data": {
            "text/plain": [
              "(590985.5555555555, 62642.808219178085)"
            ]
          },
          "metadata": {},
          "execution_count": 28
        }
      ]
    },
    {
      "cell_type": "markdown",
      "source": [
        "Проверим гипотезу о том, что в среднем MV у топ-2 индустрий одинаковый против альтернативы о неравенстве"
      ],
      "metadata": {
        "id": "3dAKI1j7kJl3"
      }
    },
    {
      "cell_type": "code",
      "source": [
        "group1 = data[data.Industry == 'Electronics'].MV\n",
        "group2 = data[data.Industry == 'Oil & Gas Operations'].MV\n",
        "mean1, mean2 = group1.mean(), group2.mean()\n",
        "std1, std2 = group1.std(), group2.std()\n",
        "diff = mean1 - mean2\n",
        "se = np.sqrt((std1**2)/len(group1) + (std2**2)/len(group2))\n",
        "Z_obs = diff / se\n",
        "alpha = 0.05\n",
        "Z_crit = norm.ppf(1-alpha/2)\n",
        "if Z_crit < Z_obs or -Z_crit>Z_obs :\n",
        "    print('Гипотеза отвергается')\n",
        "else:\n",
        "    print('Гипотеза не отвергается')"
      ],
      "metadata": {
        "colab": {
          "base_uri": "https://localhost:8080/"
        },
        "id": "cvgyEVt2kI1f",
        "outputId": "c7b89a5b-8e95-42ad-ea7d-3cf5470375ef"
      },
      "execution_count": null,
      "outputs": [
        {
          "output_type": "stream",
          "name": "stdout",
          "text": [
            "Гипотеза не отвергается\n"
          ]
        }
      ]
    },
    {
      "cell_type": "code",
      "source": [
        "Z_obs, Z_crit"
      ],
      "metadata": {
        "colab": {
          "base_uri": "https://localhost:8080/"
        },
        "id": "4FFpu1MDpnzN",
        "outputId": "5ff2a398-7dc1-469f-be45-dd06b012f733"
      },
      "execution_count": null,
      "outputs": [
        {
          "output_type": "execute_result",
          "data": {
            "text/plain": [
              "(1.5588164392081956, 1.959963984540054)"
            ]
          },
          "metadata": {},
          "execution_count": 66
        }
      ]
    },
    {
      "cell_type": "markdown",
      "source": [
        "Гипотеза о равенстве Market values у топ-2 индустрий не отвергается"
      ],
      "metadata": {
        "id": "cSn3lQnIlG-L"
      }
    },
    {
      "cell_type": "markdown",
      "source": [
        "# 5"
      ],
      "metadata": {
        "id": "PnweE48-qDe9"
      }
    },
    {
      "cell_type": "markdown",
      "source": [
        "Проверим гипотезу о том, что MV у топ-5 индустрий в среднем такой же, как в остальных индустриях против гипотезы о том, что в топ-5 компаниях MV больше"
      ],
      "metadata": {
        "id": "nY2l85MAlnBm"
      }
    },
    {
      "cell_type": "code",
      "source": [
        "group1 = data[(data.Industry == 'Electronics')| (data.Industry == 'Oil & Gas Operations') |\n",
        "     (data.Industry == 'Drugs & Biotechnology')| (data.Industry == 'Banking')| (data.Industry == 'IT, Internet, Software & Services')].MV\n",
        "group2 = data[(data.Industry != 'Electronics')| (data.Industry != 'Oil & Gas Operations') |\n",
        "     (data.Industry != 'Drugs & Biotechnology')| (data.Industry != 'Banking')| (data.Industry != 'IT, Internet, Software & Services')].MV"
      ],
      "metadata": {
        "id": "EnId5e3bl0aK"
      },
      "execution_count": null,
      "outputs": []
    },
    {
      "cell_type": "code",
      "source": [
        "group1.mean(), group2.mean()"
      ],
      "metadata": {
        "colab": {
          "base_uri": "https://localhost:8080/"
        },
        "id": "DiWr1oQ5oLBS",
        "outputId": "4dae3fbe-ba08-4ad5-86d0-daa0f5030a9d"
      },
      "execution_count": null,
      "outputs": [
        {
          "output_type": "execute_result",
          "data": {
            "text/plain": [
              "(63968.03363914373, 41117.5015576324)"
            ]
          },
          "metadata": {},
          "execution_count": 53
        }
      ]
    },
    {
      "cell_type": "code",
      "source": [
        "mean1, mean2 = group1.mean(), group2.mean()\n",
        "std1, std2 = group1.std(), group2.std()\n",
        "diff = mean1 - mean2\n",
        "se = np.sqrt((std1**2)/len(group1) + (std2**2)/len(group2))\n",
        "Z_obs = diff / se\n",
        "alpha = 0.05\n",
        "Z_crit = norm.ppf(1-alpha)\n",
        "if Z_crit < Z_obs :\n",
        "    print('Гипотеза отвергается')\n",
        "else:\n",
        "    print('Гипотеза не отвергается')"
      ],
      "metadata": {
        "colab": {
          "base_uri": "https://localhost:8080/"
        },
        "id": "sZQuYzqnk-sa",
        "outputId": "14cbee3b-64e2-4dc3-d6d2-89602ae618f1"
      },
      "execution_count": null,
      "outputs": [
        {
          "output_type": "stream",
          "name": "stdout",
          "text": [
            "Гипотеза не отвергается\n"
          ]
        }
      ]
    },
    {
      "cell_type": "markdown",
      "source": [
        "Гипотеза о том, что MV равны у топ-5 индустрий и у остальных индустрий, не отвергается на уровне значимости 5%"
      ],
      "metadata": {
        "id": "UdwqQ3_NqbNg"
      }
    }
  ]
}