{
 "cells": [
  {
   "cell_type": "code",
   "execution_count": 1,
   "id": "1eea83bf",
   "metadata": {
    "executionInfo": {
     "elapsed": 624,
     "status": "ok",
     "timestamp": 1685880014746,
     "user": {
      "displayName": "Владимир Владимирович Маяковский",
      "userId": "14971181590736391408"
     },
     "user_tz": -180
    },
    "id": "1eea83bf"
   },
   "outputs": [],
   "source": [
    "import requests\n",
    "from bs4 import BeautifulSoup as BS\n",
    "import pandas as pd"
   ]
  },
  {
   "cell_type": "code",
   "execution_count": 2,
   "id": "d27eb535",
   "metadata": {
    "executionInfo": {
     "elapsed": 1810,
     "status": "ok",
     "timestamp": 1685880066830,
     "user": {
      "displayName": "Владимир Владимирович Маяковский",
      "userId": "14971181590736391408"
     },
     "user_tz": -180
    },
    "id": "d27eb535"
   },
   "outputs": [],
   "source": [
    "r = requests.get('https://www.forbes.com/lists/global2000/?sh=3a43fc785ac0')\n",
    "html = BS(r.content, 'html.parser')"
   ]
  },
  {
   "cell_type": "code",
   "execution_count": 3,
   "id": "9f86b681",
   "metadata": {
    "executionInfo": {
     "elapsed": 2017,
     "status": "ok",
     "timestamp": 1685880070749,
     "user": {
      "displayName": "Владимир Владимирович Маяковский",
      "userId": "14971181590736391408"
     },
     "user_tz": -180
    },
    "id": "9f86b681"
   },
   "outputs": [],
   "source": [
    "c1 = html.find_all(class_=\"rank first table-cell rank\")\n",
    "c2 = html.find_all(class_=\"organizationName second table-cell name\")\n",
    "c3 =html.find_all(class_=\"country table-cell country\")\n",
    "c4 =html.find_all(class_=\"revenue table-cell sales\")\n",
    "c5 =html.find_all(class_=\"profits table-cell profit\")\n",
    "c6 =html.find_all(class_=\"assets table-cell assets\")\n",
    "c7 =html.find_all(class_=\"marketValue table-cell market value\")"
   ]
  },
  {
   "cell_type": "code",
   "execution_count": 4,
   "id": "f9e0fac3",
   "metadata": {
    "executionInfo": {
     "elapsed": 308,
     "status": "ok",
     "timestamp": 1685880073705,
     "user": {
      "displayName": "Владимир Владимирович Маяковский",
      "userId": "14971181590736391408"
     },
     "user_tz": -180
    },
    "id": "f9e0fac3"
   },
   "outputs": [],
   "source": [
    "c1text = [i.text for i in c1]\n",
    "c2text = [i.text for i in c2]\n",
    "c3text = [i.text for i in c3]\n",
    "c4text = [i.text for i in c4]\n",
    "c5text = [i.text for i in c5]\n",
    "c6text = [i.text for i in c6]\n",
    "c7text = [i.text for i in c7]"
   ]
  },
  {
   "cell_type": "code",
   "execution_count": 7,
   "id": "bf825f38",
   "metadata": {
    "executionInfo": {
     "elapsed": 269,
     "status": "ok",
     "timestamp": 1685880104812,
     "user": {
      "displayName": "Владимир Владимирович Маяковский",
      "userId": "14971181590736391408"
     },
     "user_tz": -180
    },
    "id": "bf825f38"
   },
   "outputs": [],
   "source": [
    "df = pd.DataFrame({'rank': c1text, 'name': c2text, 'country': c3text, 'sales': c4text, 'profit': c5text, 'assets': c6text})"
   ]
  },
  {
   "cell_type": "code",
   "execution_count": 8,
   "id": "0a4a6ef4",
   "metadata": {
    "executionInfo": {
     "elapsed": 310,
     "status": "ok",
     "timestamp": 1685880110220,
     "user": {
      "displayName": "Владимир Владимирович Маяковский",
      "userId": "14971181590736391408"
     },
     "user_tz": -180
    },
    "id": "0a4a6ef4"
   },
   "outputs": [],
   "source": [
    "df = df.drop(df[df.iloc[:, 1] == 'Pfizer'].index)\n",
    "df = df.drop(df[df.iloc[:, 1] == 'The Home Depot'].index)\n",
    "df = df.drop(df[df.iloc[:, 1] == 'Siemens'].index)\n",
    "df = df.drop(df[df.iloc[:, 1] == 'Waste Management'].index)\n",
    "df = df.drop(df[df.iloc[:, 1] == 'Fifth Third Bank'].index)\n",
    "df = df.drop(df[df.iloc[:, 1] == 'Universal Music Group'].index)\n",
    "df = df.drop(df[df.iloc[:, 1] == 'Eurofins Scientific Societe Europeenne'].index)\n",
    "df = df.drop(df[df.iloc[:, 1] == 'Zhongliang Holdings'].index)\n",
    "df = df.drop(df[df.iloc[:, 1] == 'Epiroc'].index)\n",
    "df = df.drop(df[df.iloc[:, 1] == 'CoStar Group'].index)\n",
    "df = df.drop(df[df.iloc[:, 1] == 'XPO'].index) #это я удалила, потому что у них может измениться маркет вэлью (на сайте так сказано)"
   ]
  },
  {
   "cell_type": "code",
   "execution_count": 9,
   "id": "5fc422cf",
   "metadata": {
    "colab": {
     "base_uri": "https://localhost:8080/",
     "height": 206
    },
    "executionInfo": {
     "elapsed": 7,
     "status": "ok",
     "timestamp": 1685880114570,
     "user": {
      "displayName": "Владимир Владимирович Маяковский",
      "userId": "14971181590736391408"
     },
     "user_tz": -180
    },
    "id": "5fc422cf",
    "outputId": "6afea2e6-f1a6-4422-c9ec-e2863052d90d"
   },
   "outputs": [
    {
     "data": {
      "text/html": [
       "\n",
       "  <div id=\"df-9ca425ee-746f-472c-b440-f824dd3e7f11\">\n",
       "    <div class=\"colab-df-container\">\n",
       "      <div>\n",
       "<style scoped>\n",
       "    .dataframe tbody tr th:only-of-type {\n",
       "        vertical-align: middle;\n",
       "    }\n",
       "\n",
       "    .dataframe tbody tr th {\n",
       "        vertical-align: top;\n",
       "    }\n",
       "\n",
       "    .dataframe thead th {\n",
       "        text-align: right;\n",
       "    }\n",
       "</style>\n",
       "<table border=\"1\" class=\"dataframe\">\n",
       "  <thead>\n",
       "    <tr style=\"text-align: right;\">\n",
       "      <th></th>\n",
       "      <th>rank</th>\n",
       "      <th>name</th>\n",
       "      <th>country</th>\n",
       "      <th>sales</th>\n",
       "      <th>profit</th>\n",
       "      <th>assets</th>\n",
       "      <th>MV</th>\n",
       "    </tr>\n",
       "  </thead>\n",
       "  <tbody>\n",
       "    <tr>\n",
       "      <th>0</th>\n",
       "      <td>1.</td>\n",
       "      <td>Berkshire Hathaway</td>\n",
       "      <td>United States</td>\n",
       "      <td>$276.09 B</td>\n",
       "      <td>$89.8 B</td>\n",
       "      <td>$958.78 B</td>\n",
       "      <td>$741.48 B</td>\n",
       "    </tr>\n",
       "    <tr>\n",
       "      <th>1</th>\n",
       "      <td>2.</td>\n",
       "      <td>ICBC</td>\n",
       "      <td>China</td>\n",
       "      <td>$208.13 B</td>\n",
       "      <td>$54.03 B</td>\n",
       "      <td>$5,518.51 B</td>\n",
       "      <td>$214.43 B</td>\n",
       "    </tr>\n",
       "    <tr>\n",
       "      <th>2</th>\n",
       "      <td>3.</td>\n",
       "      <td>Saudi Arabian Oil Company (Saudi Aramco)</td>\n",
       "      <td>Saudi Arabia</td>\n",
       "      <td>$400.38 B</td>\n",
       "      <td>$105.36 B</td>\n",
       "      <td>$576.04 B</td>\n",
       "      <td>$2,292.08 B</td>\n",
       "    </tr>\n",
       "    <tr>\n",
       "      <th>3</th>\n",
       "      <td>4.</td>\n",
       "      <td>JPMorgan Chase</td>\n",
       "      <td>United States</td>\n",
       "      <td>$124.54 B</td>\n",
       "      <td>$42.12 B</td>\n",
       "      <td>$3,954.69 B</td>\n",
       "      <td>$374.45 B</td>\n",
       "    </tr>\n",
       "    <tr>\n",
       "      <th>4</th>\n",
       "      <td>5.</td>\n",
       "      <td>China Construction Bank</td>\n",
       "      <td>China</td>\n",
       "      <td>$202.07 B</td>\n",
       "      <td>$46.89 B</td>\n",
       "      <td>$4,746.95 B</td>\n",
       "      <td>$181.32 B</td>\n",
       "    </tr>\n",
       "  </tbody>\n",
       "</table>\n",
       "</div>\n",
       "      <button class=\"colab-df-convert\" onclick=\"convertToInteractive('df-9ca425ee-746f-472c-b440-f824dd3e7f11')\"\n",
       "              title=\"Convert this dataframe to an interactive table.\"\n",
       "              style=\"display:none;\">\n",
       "        \n",
       "  <svg xmlns=\"http://www.w3.org/2000/svg\" height=\"24px\"viewBox=\"0 0 24 24\"\n",
       "       width=\"24px\">\n",
       "    <path d=\"M0 0h24v24H0V0z\" fill=\"none\"/>\n",
       "    <path d=\"M18.56 5.44l.94 2.06.94-2.06 2.06-.94-2.06-.94-.94-2.06-.94 2.06-2.06.94zm-11 1L8.5 8.5l.94-2.06 2.06-.94-2.06-.94L8.5 2.5l-.94 2.06-2.06.94zm10 10l.94 2.06.94-2.06 2.06-.94-2.06-.94-.94-2.06-.94 2.06-2.06.94z\"/><path d=\"M17.41 7.96l-1.37-1.37c-.4-.4-.92-.59-1.43-.59-.52 0-1.04.2-1.43.59L10.3 9.45l-7.72 7.72c-.78.78-.78 2.05 0 2.83L4 21.41c.39.39.9.59 1.41.59.51 0 1.02-.2 1.41-.59l7.78-7.78 2.81-2.81c.8-.78.8-2.07 0-2.86zM5.41 20L4 18.59l7.72-7.72 1.47 1.35L5.41 20z\"/>\n",
       "  </svg>\n",
       "      </button>\n",
       "      \n",
       "  <style>\n",
       "    .colab-df-container {\n",
       "      display:flex;\n",
       "      flex-wrap:wrap;\n",
       "      gap: 12px;\n",
       "    }\n",
       "\n",
       "    .colab-df-convert {\n",
       "      background-color: #E8F0FE;\n",
       "      border: none;\n",
       "      border-radius: 50%;\n",
       "      cursor: pointer;\n",
       "      display: none;\n",
       "      fill: #1967D2;\n",
       "      height: 32px;\n",
       "      padding: 0 0 0 0;\n",
       "      width: 32px;\n",
       "    }\n",
       "\n",
       "    .colab-df-convert:hover {\n",
       "      background-color: #E2EBFA;\n",
       "      box-shadow: 0px 1px 2px rgba(60, 64, 67, 0.3), 0px 1px 3px 1px rgba(60, 64, 67, 0.15);\n",
       "      fill: #174EA6;\n",
       "    }\n",
       "\n",
       "    [theme=dark] .colab-df-convert {\n",
       "      background-color: #3B4455;\n",
       "      fill: #D2E3FC;\n",
       "    }\n",
       "\n",
       "    [theme=dark] .colab-df-convert:hover {\n",
       "      background-color: #434B5C;\n",
       "      box-shadow: 0px 1px 3px 1px rgba(0, 0, 0, 0.15);\n",
       "      filter: drop-shadow(0px 1px 2px rgba(0, 0, 0, 0.3));\n",
       "      fill: #FFFFFF;\n",
       "    }\n",
       "  </style>\n",
       "\n",
       "      <script>\n",
       "        const buttonEl =\n",
       "          document.querySelector('#df-9ca425ee-746f-472c-b440-f824dd3e7f11 button.colab-df-convert');\n",
       "        buttonEl.style.display =\n",
       "          google.colab.kernel.accessAllowed ? 'block' : 'none';\n",
       "\n",
       "        async function convertToInteractive(key) {\n",
       "          const element = document.querySelector('#df-9ca425ee-746f-472c-b440-f824dd3e7f11');\n",
       "          const dataTable =\n",
       "            await google.colab.kernel.invokeFunction('convertToInteractive',\n",
       "                                                     [key], {});\n",
       "          if (!dataTable) return;\n",
       "\n",
       "          const docLinkHtml = 'Like what you see? Visit the ' +\n",
       "            '<a target=\"_blank\" href=https://colab.research.google.com/notebooks/data_table.ipynb>data table notebook</a>'\n",
       "            + ' to learn more about interactive tables.';\n",
       "          element.innerHTML = '';\n",
       "          dataTable['output_type'] = 'display_data';\n",
       "          await google.colab.output.renderOutput(dataTable, element);\n",
       "          const docLink = document.createElement('div');\n",
       "          docLink.innerHTML = docLinkHtml;\n",
       "          element.appendChild(docLink);\n",
       "        }\n",
       "      </script>\n",
       "    </div>\n",
       "  </div>\n",
       "  "
      ],
      "text/plain": [
       "  rank                                      name        country      sales  \\\n",
       "0   1.                        Berkshire Hathaway  United States  $276.09 B   \n",
       "1   2.                                      ICBC          China  $208.13 B   \n",
       "2   3.  Saudi Arabian Oil Company (Saudi Aramco)   Saudi Arabia  $400.38 B   \n",
       "3   4.                            JPMorgan Chase  United States  $124.54 B   \n",
       "4   5.                   China Construction Bank          China  $202.07 B   \n",
       "\n",
       "      profit       assets           MV  \n",
       "0    $89.8 B    $958.78 B    $741.48 B  \n",
       "1   $54.03 B  $5,518.51 B    $214.43 B  \n",
       "2  $105.36 B    $576.04 B  $2,292.08 B  \n",
       "3   $42.12 B  $3,954.69 B    $374.45 B  \n",
       "4   $46.89 B  $4,746.95 B    $181.32 B  "
      ]
     },
     "execution_count": 9,
     "metadata": {},
     "output_type": "execute_result"
    }
   ],
   "source": [
    "df.insert(6,'MV', c7text)\n",
    "df.head()"
   ]
  },
  {
   "cell_type": "code",
   "execution_count": 10,
   "id": "2c34175d",
   "metadata": {
    "executionInfo": {
     "elapsed": 263,
     "status": "ok",
     "timestamp": 1685880120201,
     "user": {
      "displayName": "Владимир Владимирович Маяковский",
      "userId": "14971181590736391408"
     },
     "user_tz": -180
    },
    "id": "2c34175d"
   },
   "outputs": [],
   "source": [
    "df.index = [int(i) for i in range(1990)]"
   ]
  },
  {
   "cell_type": "code",
   "execution_count": 11,
   "id": "f9708e59",
   "metadata": {
    "executionInfo": {
     "elapsed": 258,
     "status": "ok",
     "timestamp": 1685880122872,
     "user": {
      "displayName": "Владимир Владимирович Маяковский",
      "userId": "14971181590736391408"
     },
     "user_tz": -180
    },
    "id": "f9708e59"
   },
   "outputs": [],
   "source": [
    "d = html.find_all('a')\n",
    "hrefs = []\n",
    "for i in d:\n",
    "        h = i.get('href')\n",
    "        if h!=None:\n",
    "            hrefs.append(h)\n",
    "hrefs = hrefs[9:1999]"
   ]
  },
  {
   "cell_type": "code",
   "execution_count": null,
   "id": "f465ff0c",
   "metadata": {
    "id": "f465ff0c"
   },
   "outputs": [],
   "source": [
    "BigList = [] #для каждой компании парсим лист [\"Отрасль\", \" Год основания\", \"Город\", \"Страна\", \"CEO\", \"Количество работников\"]\n",
    "for el in hrefs:\n",
    "    r = requests.get(f'{el}')\n",
    "    html = BS(r.content, 'html.parser')\n",
    "    f = html.find_all('span',class_='profile-stats__text')\n",
    "    l=[]\n",
    "    for i in f:\n",
    "        if i.text not in l:\n",
    "            l.append(i.text)\n",
    "    if len(l)==5:\n",
    "        l = [None]+l\n",
    "    BigList.append(l)"
   ]
  },
  {
   "cell_type": "code",
   "execution_count": null,
   "id": "f341e35a",
   "metadata": {
    "id": "f341e35a"
   },
   "outputs": [],
   "source": [
    "share_prices = []#парсим цены акций, если акции не торгуются, то пишем None\n",
    "for i in hrefs:\n",
    "    r = requests.get(f'{i}')\n",
    "    html = BS(r.content, 'html.parser')\n",
    "    price = html.find(class_='profile-info__item-value')\n",
    "    if price != None:\n",
    "        share_prices.append(price.text)\n",
    "    else: \n",
    "        share_prices.append('None')"
   ]
  },
  {
   "cell_type": "code",
   "execution_count": null,
   "id": "896caad3",
   "metadata": {
    "id": "896caad3",
    "outputId": "d0b893b4-a2c4-4c67-8808-d2160e6e04a3"
   },
   "outputs": [
    {
     "data": {
      "text/html": [
       "<div>\n",
       "<style scoped>\n",
       "    .dataframe tbody tr th:only-of-type {\n",
       "        vertical-align: middle;\n",
       "    }\n",
       "\n",
       "    .dataframe tbody tr th {\n",
       "        vertical-align: top;\n",
       "    }\n",
       "\n",
       "    .dataframe thead th {\n",
       "        text-align: right;\n",
       "    }\n",
       "</style>\n",
       "<table border=\"1\" class=\"dataframe\">\n",
       "  <thead>\n",
       "    <tr style=\"text-align: right;\">\n",
       "      <th></th>\n",
       "      <th>rank</th>\n",
       "      <th>name</th>\n",
       "      <th>country</th>\n",
       "      <th>sales</th>\n",
       "      <th>profit</th>\n",
       "      <th>assets</th>\n",
       "      <th>MV</th>\n",
       "      <th>Industry</th>\n",
       "      <th>Founded</th>\n",
       "      <th>Headquaters</th>\n",
       "      <th>Country2</th>\n",
       "      <th>CEO</th>\n",
       "      <th>Employees</th>\n",
       "      <th>Share price</th>\n",
       "    </tr>\n",
       "  </thead>\n",
       "  <tbody>\n",
       "    <tr>\n",
       "      <th>0</th>\n",
       "      <td>1.</td>\n",
       "      <td>Berkshire Hathaway</td>\n",
       "      <td>United States</td>\n",
       "      <td>$276.09 B</td>\n",
       "      <td>$89.8 B</td>\n",
       "      <td>$958.78 B</td>\n",
       "      <td>$741.48 B</td>\n",
       "      <td>Diversified Financials</td>\n",
       "      <td>1939</td>\n",
       "      <td>Omaha, Nebraska</td>\n",
       "      <td>United States</td>\n",
       "      <td>Warren Edward Buffett</td>\n",
       "      <td>372,000</td>\n",
       "      <td>$318.05</td>\n",
       "    </tr>\n",
       "    <tr>\n",
       "      <th>1</th>\n",
       "      <td>2.</td>\n",
       "      <td>ICBC</td>\n",
       "      <td>China</td>\n",
       "      <td>$208.13 B</td>\n",
       "      <td>$54.03 B</td>\n",
       "      <td>$5,518.51 B</td>\n",
       "      <td>$214.43 B</td>\n",
       "      <td>None</td>\n",
       "      <td>1984</td>\n",
       "      <td>Beijing</td>\n",
       "      <td>China</td>\n",
       "      <td>Liao Lin</td>\n",
       "      <td>434,089</td>\n",
       "      <td>None</td>\n",
       "    </tr>\n",
       "    <tr>\n",
       "      <th>2</th>\n",
       "      <td>3.</td>\n",
       "      <td>Saudi Arabian Oil Company (Saudi Aramco)</td>\n",
       "      <td>Saudi Arabia</td>\n",
       "      <td>$400.38 B</td>\n",
       "      <td>$105.36 B</td>\n",
       "      <td>$576.04 B</td>\n",
       "      <td>$2,292.08 B</td>\n",
       "      <td>Oil &amp; Gas Operations</td>\n",
       "      <td>1933</td>\n",
       "      <td>Dhahran</td>\n",
       "      <td>Saudi Arabia</td>\n",
       "      <td>Amin bin Hasan Al-Nasser</td>\n",
       "      <td>68,493</td>\n",
       "      <td>None</td>\n",
       "    </tr>\n",
       "    <tr>\n",
       "      <th>3</th>\n",
       "      <td>4.</td>\n",
       "      <td>JPMorgan Chase</td>\n",
       "      <td>United States</td>\n",
       "      <td>$124.54 B</td>\n",
       "      <td>$42.12 B</td>\n",
       "      <td>$3,954.69 B</td>\n",
       "      <td>$374.45 B</td>\n",
       "      <td>Banking</td>\n",
       "      <td>2000</td>\n",
       "      <td>New York, New York</td>\n",
       "      <td>United States</td>\n",
       "      <td>Jamie Dimon</td>\n",
       "      <td>270,000</td>\n",
       "      <td>$128.99</td>\n",
       "    </tr>\n",
       "    <tr>\n",
       "      <th>4</th>\n",
       "      <td>5.</td>\n",
       "      <td>China Construction Bank</td>\n",
       "      <td>China</td>\n",
       "      <td>$202.07 B</td>\n",
       "      <td>$46.89 B</td>\n",
       "      <td>$4,746.95 B</td>\n",
       "      <td>$181.32 B</td>\n",
       "      <td>None</td>\n",
       "      <td>1954</td>\n",
       "      <td>Beijing</td>\n",
       "      <td>China</td>\n",
       "      <td>Jinliang Zhang</td>\n",
       "      <td>347,319</td>\n",
       "      <td>None</td>\n",
       "    </tr>\n",
       "    <tr>\n",
       "      <th>...</th>\n",
       "      <td>...</td>\n",
       "      <td>...</td>\n",
       "      <td>...</td>\n",
       "      <td>...</td>\n",
       "      <td>...</td>\n",
       "      <td>...</td>\n",
       "      <td>...</td>\n",
       "      <td>...</td>\n",
       "      <td>...</td>\n",
       "      <td>...</td>\n",
       "      <td>...</td>\n",
       "      <td>...</td>\n",
       "      <td>...</td>\n",
       "      <td>...</td>\n",
       "    </tr>\n",
       "    <tr>\n",
       "      <th>1985</th>\n",
       "      <td>1995.</td>\n",
       "      <td>Shenzhen Feima International Supply Chain</td>\n",
       "      <td>China</td>\n",
       "      <td>$37 M</td>\n",
       "      <td>$1.41 B</td>\n",
       "      <td>$166 M</td>\n",
       "      <td>$1.14 B</td>\n",
       "      <td>Business Services &amp; Supplies</td>\n",
       "      <td>1998</td>\n",
       "      <td>Shenzhen</td>\n",
       "      <td>China</td>\n",
       "      <td>Shan Min Huang</td>\n",
       "      <td>306</td>\n",
       "      <td>None</td>\n",
       "    </tr>\n",
       "    <tr>\n",
       "      <th>1986</th>\n",
       "      <td>1997.</td>\n",
       "      <td>NMDC</td>\n",
       "      <td>India</td>\n",
       "      <td>$3.52 B</td>\n",
       "      <td>$1.41 B</td>\n",
       "      <td>$5.71 B</td>\n",
       "      <td>$6.4 B</td>\n",
       "      <td>Materials</td>\n",
       "      <td>1958</td>\n",
       "      <td>Hyderabad</td>\n",
       "      <td>India</td>\n",
       "      <td>Sumit Deb</td>\n",
       "      <td>16,944</td>\n",
       "      <td>None</td>\n",
       "    </tr>\n",
       "    <tr>\n",
       "      <th>1987</th>\n",
       "      <td>1997.</td>\n",
       "      <td>Sichuan Changhong Electric</td>\n",
       "      <td>China</td>\n",
       "      <td>$15.72 B</td>\n",
       "      <td>$53.1 M</td>\n",
       "      <td>$12.11 B</td>\n",
       "      <td>$1.96 B</td>\n",
       "      <td>Consumer Durables</td>\n",
       "      <td>1988</td>\n",
       "      <td>Mianyang</td>\n",
       "      <td>China</td>\n",
       "      <td>Wei Li</td>\n",
       "      <td>51,841</td>\n",
       "      <td>None</td>\n",
       "    </tr>\n",
       "    <tr>\n",
       "      <th>1988</th>\n",
       "      <td>1999.</td>\n",
       "      <td>Satellite Chemical</td>\n",
       "      <td>China</td>\n",
       "      <td>$4.41 B</td>\n",
       "      <td>$931.3 M</td>\n",
       "      <td>$7.64 B</td>\n",
       "      <td>$9.52 B</td>\n",
       "      <td>Chemicals</td>\n",
       "      <td>China</td>\n",
       "      <td>3,409</td>\n",
       "      <td>None</td>\n",
       "      <td>None</td>\n",
       "      <td>None</td>\n",
       "      <td>None</td>\n",
       "    </tr>\n",
       "    <tr>\n",
       "      <th>1989</th>\n",
       "      <td>2000.</td>\n",
       "      <td>Sun Communities</td>\n",
       "      <td>United States</td>\n",
       "      <td>$2.27 B</td>\n",
       "      <td>$375.7 M</td>\n",
       "      <td>$13.49 B</td>\n",
       "      <td>$21.71 B</td>\n",
       "      <td>Business Services &amp; Supplies</td>\n",
       "      <td>1975</td>\n",
       "      <td>Southfield, Michigan</td>\n",
       "      <td>United States</td>\n",
       "      <td>Gary A. Shiffman</td>\n",
       "      <td>45,000</td>\n",
       "      <td>$138.76</td>\n",
       "    </tr>\n",
       "  </tbody>\n",
       "</table>\n",
       "<p>1990 rows × 14 columns</p>\n",
       "</div>"
      ],
      "text/plain": [
       "       rank                                       name        country  \\\n",
       "0        1.                         Berkshire Hathaway  United States   \n",
       "1        2.                                       ICBC          China   \n",
       "2        3.   Saudi Arabian Oil Company (Saudi Aramco)   Saudi Arabia   \n",
       "3        4.                             JPMorgan Chase  United States   \n",
       "4        5.                    China Construction Bank          China   \n",
       "...     ...                                        ...            ...   \n",
       "1985  1995.  Shenzhen Feima International Supply Chain          China   \n",
       "1986  1997.                                       NMDC          India   \n",
       "1987  1997.                 Sichuan Changhong Electric          China   \n",
       "1988  1999.                         Satellite Chemical          China   \n",
       "1989  2000.                            Sun Communities  United States   \n",
       "\n",
       "          sales     profit       assets           MV  \\\n",
       "0     $276.09 B    $89.8 B    $958.78 B    $741.48 B   \n",
       "1     $208.13 B   $54.03 B  $5,518.51 B    $214.43 B   \n",
       "2     $400.38 B  $105.36 B    $576.04 B  $2,292.08 B   \n",
       "3     $124.54 B   $42.12 B  $3,954.69 B    $374.45 B   \n",
       "4     $202.07 B   $46.89 B  $4,746.95 B    $181.32 B   \n",
       "...         ...        ...          ...          ...   \n",
       "1985      $37 M    $1.41 B       $166 M      $1.14 B   \n",
       "1986    $3.52 B    $1.41 B      $5.71 B       $6.4 B   \n",
       "1987   $15.72 B    $53.1 M     $12.11 B      $1.96 B   \n",
       "1988    $4.41 B   $931.3 M      $7.64 B      $9.52 B   \n",
       "1989    $2.27 B   $375.7 M     $13.49 B     $21.71 B   \n",
       "\n",
       "                          Industry Founded           Headquaters  \\\n",
       "0           Diversified Financials    1939       Omaha, Nebraska   \n",
       "1                             None    1984               Beijing   \n",
       "2             Oil & Gas Operations    1933               Dhahran   \n",
       "3                          Banking    2000    New York, New York   \n",
       "4                             None    1954               Beijing   \n",
       "...                            ...     ...                   ...   \n",
       "1985  Business Services & Supplies    1998              Shenzhen   \n",
       "1986                     Materials    1958             Hyderabad   \n",
       "1987             Consumer Durables    1988              Mianyang   \n",
       "1988                     Chemicals   China                 3,409   \n",
       "1989  Business Services & Supplies    1975  Southfield, Michigan   \n",
       "\n",
       "           Country2                       CEO Employees Share price  \n",
       "0     United States     Warren Edward Buffett   372,000     $318.05  \n",
       "1             China                  Liao Lin   434,089        None  \n",
       "2      Saudi Arabia  Amin bin Hasan Al-Nasser    68,493        None  \n",
       "3     United States               Jamie Dimon   270,000     $128.99  \n",
       "4             China            Jinliang Zhang   347,319        None  \n",
       "...             ...                       ...       ...         ...  \n",
       "1985          China            Shan Min Huang       306        None  \n",
       "1986          India                 Sumit Deb    16,944        None  \n",
       "1987          China                    Wei Li    51,841        None  \n",
       "1988           None                      None      None        None  \n",
       "1989  United States          Gary A. Shiffman    45,000     $138.76  \n",
       "\n",
       "[1990 rows x 14 columns]"
      ]
     },
     "execution_count": 104,
     "metadata": {},
     "output_type": "execute_result"
    }
   ],
   "source": [
    "df2 = pd.DataFrame(BigList, \n",
    "columns=['Industry','Founded', 'Headquaters', 'Country2', 'CEO', 'Employees'], index = [int(i) for i in range(1990)])\n",
    "df2.insert(6, 'Share price', share_prices)\n",
    "result = pd.concat([df,df2], axis=1)\n",
    "result"
   ]
  },
  {
   "cell_type": "code",
   "execution_count": null,
   "id": "4aab339e",
   "metadata": {
    "id": "4aab339e",
    "outputId": "65d97888-c155-4cf6-88ab-cfbea7c3877d"
   },
   "outputs": [
    {
     "name": "stdout",
     "output_type": "stream",
     "text": [
      "{519, 1544, 1933, 1935, 1041, 1809, 1688, 1690, 1307, 1958, 1836, 813, 1840, 946, 1465, 1339, 576, 321, 1729, 1984, 1988, 209, 1364, 1509, 489, 363, 1899, 240, 1776, 1396, 248, 1658}\n"
     ]
    }
   ],
   "source": [
    "#убираем строки, в которых мало инфы\n",
    "ind =[]\n",
    "for i in BigList:\n",
    "    if len(i)<6:\n",
    "        ind.append(BigList.index(i))\n",
    "print(set(ind))"
   ]
  },
  {
   "cell_type": "code",
   "execution_count": null,
   "id": "d017f96f",
   "metadata": {
    "id": "d017f96f"
   },
   "outputs": [],
   "source": [
    "result = result.drop(index = set(ind))"
   ]
  },
  {
   "cell_type": "code",
   "execution_count": null,
   "id": "2bc704ec",
   "metadata": {
    "id": "2bc704ec"
   },
   "outputs": [],
   "source": [
    "f = result['Founded'].tolist()\n",
    "ind = []\n",
    "for i in f:\n",
    "    if i.isdigit()!=True:\n",
    "        ind.append(i)\n",
    "for i in ind:\n",
    "    result = result.drop(result[result.iloc[:, 8] == f'{i}'].index)"
   ]
  },
  {
   "cell_type": "code",
   "execution_count": null,
   "id": "0d8373f3",
   "metadata": {
    "id": "0d8373f3"
   },
   "outputs": [],
   "source": [
    "result = result.drop(result[result.iloc[:, 8] == 'Engineering, Manufacturing'].index)"
   ]
  },
  {
   "cell_type": "code",
   "execution_count": null,
   "id": "12405ed0",
   "metadata": {
    "id": "12405ed0"
   },
   "outputs": [],
   "source": [
    "result = result.drop(columns = ['Country2'])"
   ]
  },
  {
   "cell_type": "code",
   "execution_count": null,
   "id": "b90c9fb5",
   "metadata": {
    "id": "b90c9fb5"
   },
   "outputs": [],
   "source": [
    "result.to_csv('forbes2000 (1).csv', sep=',', index=False, lineterminator='')"
   ]
  }
 ],
 "metadata": {
  "colab": {
   "provenance": []
  },
  "kernelspec": {
   "display_name": "Python 3 (ipykernel)",
   "language": "python",
   "name": "python3"
  },
  "language_info": {
   "codemirror_mode": {
    "name": "ipython",
    "version": 3
   },
   "file_extension": ".py",
   "mimetype": "text/x-python",
   "name": "python",
   "nbconvert_exporter": "python",
   "pygments_lexer": "ipython3",
   "version": "3.9.7"
  }
 },
 "nbformat": 4,
 "nbformat_minor": 5
}
