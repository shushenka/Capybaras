{
 "cells": [
  {
   "cell_type": "code",
   "execution_count": 1,
   "metadata": {
    "executionInfo": {
     "elapsed": 544,
     "status": "ok",
     "timestamp": 1686234123777,
     "user": {
      "displayName": "Галина Рафикова",
      "userId": "13301022344808824546"
     },
     "user_tz": -180
    },
    "id": "vCFB8_kfkvJ-"
   },
   "outputs": [],
   "source": [
    "import pandas as pd\n",
    "import numpy as np"
   ]
  },
  {
   "cell_type": "code",
   "execution_count": 5,
   "metadata": {
    "colab": {
     "base_uri": "https://localhost:8080/",
     "height": 410
    },
    "executionInfo": {
     "elapsed": 11872,
     "status": "ok",
     "timestamp": 1686234139413,
     "user": {
      "displayName": "Галина Рафикова",
      "userId": "13301022344808824546"
     },
     "user_tz": -180
    },
    "id": "kIve5ItVYzGF",
    "outputId": "a06a1e10-8193-4d36-9a38-cd17e3c01efb"
   },
   "outputs": [
    {
     "data": {
      "text/html": [
       "<div>\n",
       "<style scoped>\n",
       "    .dataframe tbody tr th:only-of-type {\n",
       "        vertical-align: middle;\n",
       "    }\n",
       "\n",
       "    .dataframe tbody tr th {\n",
       "        vertical-align: top;\n",
       "    }\n",
       "\n",
       "    .dataframe thead th {\n",
       "        text-align: right;\n",
       "    }\n",
       "</style>\n",
       "<table border=\"1\" class=\"dataframe\">\n",
       "  <thead>\n",
       "    <tr style=\"text-align: right;\">\n",
       "      <th></th>\n",
       "      <th>rank</th>\n",
       "      <th>name</th>\n",
       "      <th>country</th>\n",
       "      <th>sales</th>\n",
       "      <th>profit</th>\n",
       "      <th>assets</th>\n",
       "      <th>MV</th>\n",
       "      <th>Industry</th>\n",
       "      <th>Founded</th>\n",
       "      <th>Headquaters</th>\n",
       "      <th>CEO</th>\n",
       "      <th>Employees</th>\n",
       "      <th>Share price</th>\n",
       "    </tr>\n",
       "  </thead>\n",
       "  <tbody>\n",
       "    <tr>\n",
       "      <th>0</th>\n",
       "      <td>1.0</td>\n",
       "      <td>Berkshire Hathaway</td>\n",
       "      <td>United States</td>\n",
       "      <td>$276.09 B</td>\n",
       "      <td>$89.8 B</td>\n",
       "      <td>$958.78 B</td>\n",
       "      <td>$741.48 B</td>\n",
       "      <td>Diversified Financials</td>\n",
       "      <td>1939.0</td>\n",
       "      <td>Omaha, Nebraska</td>\n",
       "      <td>Warren Edward Buffett</td>\n",
       "      <td>372,000</td>\n",
       "      <td>$318.05</td>\n",
       "    </tr>\n",
       "    <tr>\n",
       "      <th>1</th>\n",
       "      <td>2.0</td>\n",
       "      <td>ICBC</td>\n",
       "      <td>China</td>\n",
       "      <td>$208.13 B</td>\n",
       "      <td>$54.03 B</td>\n",
       "      <td>$5,518.51 B</td>\n",
       "      <td>$214.43 B</td>\n",
       "      <td>NaN</td>\n",
       "      <td>1984.0</td>\n",
       "      <td>Beijing</td>\n",
       "      <td>Liao Lin</td>\n",
       "      <td>434,089</td>\n",
       "      <td>None</td>\n",
       "    </tr>\n",
       "    <tr>\n",
       "      <th>2</th>\n",
       "      <td>3.0</td>\n",
       "      <td>Saudi Arabian Oil Company (Saudi Aramco)</td>\n",
       "      <td>Saudi Arabia</td>\n",
       "      <td>$400.38 B</td>\n",
       "      <td>$105.36 B</td>\n",
       "      <td>$576.04 B</td>\n",
       "      <td>$2,292.08 B</td>\n",
       "      <td>Oil &amp; Gas Operations</td>\n",
       "      <td>1933.0</td>\n",
       "      <td>Dhahran</td>\n",
       "      <td>Amin bin Hasan Al-Nasser</td>\n",
       "      <td>68,493</td>\n",
       "      <td>None</td>\n",
       "    </tr>\n",
       "    <tr>\n",
       "      <th>3</th>\n",
       "      <td>4.0</td>\n",
       "      <td>JPMorgan Chase</td>\n",
       "      <td>United States</td>\n",
       "      <td>$124.54 B</td>\n",
       "      <td>$42.12 B</td>\n",
       "      <td>$3,954.69 B</td>\n",
       "      <td>$374.45 B</td>\n",
       "      <td>Banking</td>\n",
       "      <td>2000.0</td>\n",
       "      <td>New York, New York</td>\n",
       "      <td>Jamie Dimon</td>\n",
       "      <td>270,000</td>\n",
       "      <td>$128.99</td>\n",
       "    </tr>\n",
       "    <tr>\n",
       "      <th>4</th>\n",
       "      <td>5.0</td>\n",
       "      <td>China Construction Bank</td>\n",
       "      <td>China</td>\n",
       "      <td>$202.07 B</td>\n",
       "      <td>$46.89 B</td>\n",
       "      <td>$4,746.95 B</td>\n",
       "      <td>$181.32 B</td>\n",
       "      <td>NaN</td>\n",
       "      <td>1954.0</td>\n",
       "      <td>Beijing</td>\n",
       "      <td>Jinliang Zhang</td>\n",
       "      <td>347,319</td>\n",
       "      <td>None</td>\n",
       "    </tr>\n",
       "  </tbody>\n",
       "</table>\n",
       "</div>"
      ],
      "text/plain": [
       "   rank                                      name        country      sales  \\\n",
       "0   1.0                        Berkshire Hathaway  United States  $276.09 B   \n",
       "1   2.0                                      ICBC          China  $208.13 B   \n",
       "2   3.0  Saudi Arabian Oil Company (Saudi Aramco)   Saudi Arabia  $400.38 B   \n",
       "3   4.0                            JPMorgan Chase  United States  $124.54 B   \n",
       "4   5.0                   China Construction Bank          China  $202.07 B   \n",
       "\n",
       "      profit       assets           MV                Industry  Founded  \\\n",
       "0    $89.8 B    $958.78 B    $741.48 B  Diversified Financials   1939.0   \n",
       "1   $54.03 B  $5,518.51 B    $214.43 B                     NaN   1984.0   \n",
       "2  $105.36 B    $576.04 B  $2,292.08 B    Oil & Gas Operations   1933.0   \n",
       "3   $42.12 B  $3,954.69 B    $374.45 B                 Banking   2000.0   \n",
       "4   $46.89 B  $4,746.95 B    $181.32 B                     NaN   1954.0   \n",
       "\n",
       "          Headquaters                       CEO Employees Share price  \n",
       "0     Omaha, Nebraska     Warren Edward Buffett   372,000     $318.05  \n",
       "1             Beijing                  Liao Lin   434,089        None  \n",
       "2             Dhahran  Amin bin Hasan Al-Nasser    68,493        None  \n",
       "3  New York, New York               Jamie Dimon   270,000     $128.99  \n",
       "4             Beijing            Jinliang Zhang   347,319        None  "
      ]
     },
     "execution_count": 5,
     "metadata": {},
     "output_type": "execute_result"
    }
   ],
   "source": [
    "data = pd.read_csv('forbes2000 (1).csv')\n",
    "data.head()"
   ]
  },
  {
   "cell_type": "markdown",
   "metadata": {
    "id": "bi4Lb5Ns3416"
   },
   "source": [
    "Итак, у нас есть несколько колонок с числовыми данными, но в них присутствуют другие символы помимо цифр (валюта и B или M). Надо избавиться от этих символов, чтобы было удобно анализировать."
   ]
  },
  {
   "cell_type": "code",
   "execution_count": 6,
   "metadata": {
    "executionInfo": {
     "elapsed": 256,
     "status": "ok",
     "timestamp": 1686234152091,
     "user": {
      "displayName": "Галина Рафикова",
      "userId": "13301022344808824546"
     },
     "user_tz": -180
    },
    "id": "IyLF7GPiXGXT"
   },
   "outputs": [],
   "source": [
    "data['sales'] = data['sales'].apply(lambda x: x[1:])\n",
    "data['profit'] = data['profit'].apply(lambda x: x[1:])\n",
    "data['assets'] = data['assets'].apply(lambda x: x[1:])\n",
    "data['MV'] = data['MV'].apply(lambda x: x[1:])\n",
    "data['Share price'] = data['Share price'].apply(lambda x: x[1:] if x[0]=='$' else None)#избавляемся от значка доллара"
   ]
  },
  {
   "cell_type": "markdown",
   "metadata": {
    "id": "XgsQBZuF4gil"
   },
   "source": [
    "Далее создаем вспомогательные колонки, в которых содержится \"1\", если число было написано в миллионах долларов (М), и \"1000\", если число написано в миллиардах (B), т.к. мы хотим привести все к милионам"
   ]
  },
  {
   "cell_type": "code",
   "execution_count": 7,
   "metadata": {
    "executionInfo": {
     "elapsed": 252,
     "status": "ok",
     "timestamp": 1686234153896,
     "user": {
      "displayName": "Галина Рафикова",
      "userId": "13301022344808824546"
     },
     "user_tz": -180
    },
    "id": "A9XKsxyWXQeX"
   },
   "outputs": [],
   "source": [
    "data['sales MB'] = data['sales'].apply(lambda x: 1 if x[-1] == 'M' else 1000 if x[-1] == 'B' else None)\n",
    "data['assets MB'] = data['assets'].apply(lambda x: 1 if x[-1] == 'M' else 1000 if x[-1] == 'B' else None)\n",
    "data['profit MB'] = data['profit'].apply(lambda x: 1 if x[-1] == 'M' else 1000 if x[-1] == 'B' else None)\n",
    "data['MV MB'] = data['MV'].apply(lambda x: 1 if x[-1] == 'M' else 1000 if x[-1] == 'B' else None)"
   ]
  },
  {
   "cell_type": "markdown",
   "metadata": {
    "id": "5kbYWfP94-bV"
   },
   "source": [
    "Удаляем \"М\" и \"В\", переводим колонки в float"
   ]
  },
  {
   "cell_type": "code",
   "execution_count": 8,
   "metadata": {
    "executionInfo": {
     "elapsed": 243,
     "status": "ok",
     "timestamp": 1686234155604,
     "user": {
      "displayName": "Галина Рафикова",
      "userId": "13301022344808824546"
     },
     "user_tz": -180
    },
    "id": "q_J16T7PXTJj"
   },
   "outputs": [],
   "source": [
    "data['sales'] = data['sales'].apply(lambda x: float(x[:-1]))\n",
    "data['profit'] = data['profit'].apply(lambda x: float(x[:-1]))\n",
    "data['assets'] = data['assets'].apply(lambda x: float(x.replace(',', '')[:-1]))\n",
    "data['MV'] = data['MV'].apply(lambda x: float(x.replace(',', '')[:-1]))\n",
    "data['Share price'] = data['Share price'].apply(lambda x: float(x.replace(',', '')[:-1]) if x != None else None)\n"
   ]
  },
  {
   "cell_type": "code",
   "execution_count": 9,
   "metadata": {
    "executionInfo": {
     "elapsed": 4,
     "status": "ok",
     "timestamp": 1686234156258,
     "user": {
      "displayName": "Галина Рафикова",
      "userId": "13301022344808824546"
     },
     "user_tz": -180
    },
    "id": "8wht2Czalx7R"
   },
   "outputs": [],
   "source": [
    "data['Employees'] =data['Employees'].dropna().apply(lambda x: float(x.replace(',','')))"
   ]
  },
  {
   "cell_type": "markdown",
   "metadata": {
    "id": "q6f967Ub5Hhp"
   },
   "source": [
    "Умножаем на вспомогательные колонки, затем удаляем вспомогательные колонки"
   ]
  },
  {
   "cell_type": "code",
   "execution_count": 10,
   "metadata": {
    "colab": {
     "base_uri": "https://localhost:8080/",
     "height": 389
    },
    "executionInfo": {
     "elapsed": 22,
     "status": "ok",
     "timestamp": 1686234158181,
     "user": {
      "displayName": "Галина Рафикова",
      "userId": "13301022344808824546"
     },
     "user_tz": -180
    },
    "id": "A2neOwtfXWCT",
    "outputId": "b7e24543-2c8a-4b16-be53-14d403c931a6"
   },
   "outputs": [
    {
     "data": {
      "text/html": [
       "<div>\n",
       "<style scoped>\n",
       "    .dataframe tbody tr th:only-of-type {\n",
       "        vertical-align: middle;\n",
       "    }\n",
       "\n",
       "    .dataframe tbody tr th {\n",
       "        vertical-align: top;\n",
       "    }\n",
       "\n",
       "    .dataframe thead th {\n",
       "        text-align: right;\n",
       "    }\n",
       "</style>\n",
       "<table border=\"1\" class=\"dataframe\">\n",
       "  <thead>\n",
       "    <tr style=\"text-align: right;\">\n",
       "      <th></th>\n",
       "      <th>rank</th>\n",
       "      <th>name</th>\n",
       "      <th>country</th>\n",
       "      <th>sales</th>\n",
       "      <th>profit</th>\n",
       "      <th>assets</th>\n",
       "      <th>MV</th>\n",
       "      <th>Industry</th>\n",
       "      <th>Founded</th>\n",
       "      <th>Headquaters</th>\n",
       "      <th>CEO</th>\n",
       "      <th>Employees</th>\n",
       "      <th>Share price</th>\n",
       "      <th>sales MB</th>\n",
       "      <th>assets MB</th>\n",
       "      <th>profit MB</th>\n",
       "      <th>MV MB</th>\n",
       "    </tr>\n",
       "  </thead>\n",
       "  <tbody>\n",
       "    <tr>\n",
       "      <th>0</th>\n",
       "      <td>1.0</td>\n",
       "      <td>Berkshire Hathaway</td>\n",
       "      <td>United States</td>\n",
       "      <td>276090.0</td>\n",
       "      <td>89800.0</td>\n",
       "      <td>958780.0</td>\n",
       "      <td>741480.0</td>\n",
       "      <td>Diversified Financials</td>\n",
       "      <td>1939.0</td>\n",
       "      <td>Omaha, Nebraska</td>\n",
       "      <td>Warren Edward Buffett</td>\n",
       "      <td>372000.0</td>\n",
       "      <td>318.0</td>\n",
       "      <td>1000</td>\n",
       "      <td>1000</td>\n",
       "      <td>1000</td>\n",
       "      <td>1000</td>\n",
       "    </tr>\n",
       "    <tr>\n",
       "      <th>1</th>\n",
       "      <td>2.0</td>\n",
       "      <td>ICBC</td>\n",
       "      <td>China</td>\n",
       "      <td>208130.0</td>\n",
       "      <td>54030.0</td>\n",
       "      <td>5518510.0</td>\n",
       "      <td>214430.0</td>\n",
       "      <td>NaN</td>\n",
       "      <td>1984.0</td>\n",
       "      <td>Beijing</td>\n",
       "      <td>Liao Lin</td>\n",
       "      <td>434089.0</td>\n",
       "      <td>NaN</td>\n",
       "      <td>1000</td>\n",
       "      <td>1000</td>\n",
       "      <td>1000</td>\n",
       "      <td>1000</td>\n",
       "    </tr>\n",
       "    <tr>\n",
       "      <th>2</th>\n",
       "      <td>3.0</td>\n",
       "      <td>Saudi Arabian Oil Company (Saudi Aramco)</td>\n",
       "      <td>Saudi Arabia</td>\n",
       "      <td>400380.0</td>\n",
       "      <td>105360.0</td>\n",
       "      <td>576040.0</td>\n",
       "      <td>2292080.0</td>\n",
       "      <td>Oil &amp; Gas Operations</td>\n",
       "      <td>1933.0</td>\n",
       "      <td>Dhahran</td>\n",
       "      <td>Amin bin Hasan Al-Nasser</td>\n",
       "      <td>68493.0</td>\n",
       "      <td>NaN</td>\n",
       "      <td>1000</td>\n",
       "      <td>1000</td>\n",
       "      <td>1000</td>\n",
       "      <td>1000</td>\n",
       "    </tr>\n",
       "    <tr>\n",
       "      <th>3</th>\n",
       "      <td>4.0</td>\n",
       "      <td>JPMorgan Chase</td>\n",
       "      <td>United States</td>\n",
       "      <td>124540.0</td>\n",
       "      <td>42120.0</td>\n",
       "      <td>3954690.0</td>\n",
       "      <td>374450.0</td>\n",
       "      <td>Banking</td>\n",
       "      <td>2000.0</td>\n",
       "      <td>New York, New York</td>\n",
       "      <td>Jamie Dimon</td>\n",
       "      <td>270000.0</td>\n",
       "      <td>128.9</td>\n",
       "      <td>1000</td>\n",
       "      <td>1000</td>\n",
       "      <td>1000</td>\n",
       "      <td>1000</td>\n",
       "    </tr>\n",
       "    <tr>\n",
       "      <th>4</th>\n",
       "      <td>5.0</td>\n",
       "      <td>China Construction Bank</td>\n",
       "      <td>China</td>\n",
       "      <td>202070.0</td>\n",
       "      <td>46890.0</td>\n",
       "      <td>4746950.0</td>\n",
       "      <td>181320.0</td>\n",
       "      <td>NaN</td>\n",
       "      <td>1954.0</td>\n",
       "      <td>Beijing</td>\n",
       "      <td>Jinliang Zhang</td>\n",
       "      <td>347319.0</td>\n",
       "      <td>NaN</td>\n",
       "      <td>1000</td>\n",
       "      <td>1000</td>\n",
       "      <td>1000</td>\n",
       "      <td>1000</td>\n",
       "    </tr>\n",
       "  </tbody>\n",
       "</table>\n",
       "</div>"
      ],
      "text/plain": [
       "   rank                                      name        country     sales  \\\n",
       "0   1.0                        Berkshire Hathaway  United States  276090.0   \n",
       "1   2.0                                      ICBC          China  208130.0   \n",
       "2   3.0  Saudi Arabian Oil Company (Saudi Aramco)   Saudi Arabia  400380.0   \n",
       "3   4.0                            JPMorgan Chase  United States  124540.0   \n",
       "4   5.0                   China Construction Bank          China  202070.0   \n",
       "\n",
       "     profit     assets         MV                Industry  Founded  \\\n",
       "0   89800.0   958780.0   741480.0  Diversified Financials   1939.0   \n",
       "1   54030.0  5518510.0   214430.0                     NaN   1984.0   \n",
       "2  105360.0   576040.0  2292080.0    Oil & Gas Operations   1933.0   \n",
       "3   42120.0  3954690.0   374450.0                 Banking   2000.0   \n",
       "4   46890.0  4746950.0   181320.0                     NaN   1954.0   \n",
       "\n",
       "          Headquaters                       CEO  Employees  Share price  \\\n",
       "0     Omaha, Nebraska     Warren Edward Buffett   372000.0        318.0   \n",
       "1             Beijing                  Liao Lin   434089.0          NaN   \n",
       "2             Dhahran  Amin bin Hasan Al-Nasser    68493.0          NaN   \n",
       "3  New York, New York               Jamie Dimon   270000.0        128.9   \n",
       "4             Beijing            Jinliang Zhang   347319.0          NaN   \n",
       "\n",
       "   sales MB  assets MB  profit MB  MV MB  \n",
       "0      1000       1000       1000   1000  \n",
       "1      1000       1000       1000   1000  \n",
       "2      1000       1000       1000   1000  \n",
       "3      1000       1000       1000   1000  \n",
       "4      1000       1000       1000   1000  "
      ]
     },
     "execution_count": 10,
     "metadata": {},
     "output_type": "execute_result"
    }
   ],
   "source": [
    "data['sales']=data['sales']*data['sales MB']\n",
    "data['assets']=data['assets']*data['assets MB']\n",
    "data['profit']=data['profit']*data['profit MB']\n",
    "data['MV']=data['MV']*data['MV MB']\n",
    "data.head() #теперь sales, profit, assets и market value указаны в миллионах долларов"
   ]
  },
  {
   "cell_type": "code",
   "execution_count": 11,
   "metadata": {
    "colab": {
     "base_uri": "https://localhost:8080/",
     "height": 320
    },
    "executionInfo": {
     "elapsed": 18,
     "status": "ok",
     "timestamp": 1686234159518,
     "user": {
      "displayName": "Галина Рафикова",
      "userId": "13301022344808824546"
     },
     "user_tz": -180
    },
    "id": "Rzs_oh_uXZb3",
    "outputId": "757dc682-efb6-4608-98be-e783c7bc4abf"
   },
   "outputs": [
    {
     "data": {
      "text/html": [
       "<div>\n",
       "<style scoped>\n",
       "    .dataframe tbody tr th:only-of-type {\n",
       "        vertical-align: middle;\n",
       "    }\n",
       "\n",
       "    .dataframe tbody tr th {\n",
       "        vertical-align: top;\n",
       "    }\n",
       "\n",
       "    .dataframe thead th {\n",
       "        text-align: right;\n",
       "    }\n",
       "</style>\n",
       "<table border=\"1\" class=\"dataframe\">\n",
       "  <thead>\n",
       "    <tr style=\"text-align: right;\">\n",
       "      <th></th>\n",
       "      <th>rank</th>\n",
       "      <th>name</th>\n",
       "      <th>country</th>\n",
       "      <th>sales</th>\n",
       "      <th>profit</th>\n",
       "      <th>assets</th>\n",
       "      <th>MV</th>\n",
       "      <th>Industry</th>\n",
       "      <th>Founded</th>\n",
       "      <th>Headquaters</th>\n",
       "      <th>CEO</th>\n",
       "      <th>Employees</th>\n",
       "      <th>Share price</th>\n",
       "    </tr>\n",
       "  </thead>\n",
       "  <tbody>\n",
       "    <tr>\n",
       "      <th>0</th>\n",
       "      <td>1.0</td>\n",
       "      <td>Berkshire Hathaway</td>\n",
       "      <td>United States</td>\n",
       "      <td>276090.0</td>\n",
       "      <td>89800.0</td>\n",
       "      <td>958780.0</td>\n",
       "      <td>741480.0</td>\n",
       "      <td>Diversified Financials</td>\n",
       "      <td>1939.0</td>\n",
       "      <td>Omaha, Nebraska</td>\n",
       "      <td>Warren Edward Buffett</td>\n",
       "      <td>372000.0</td>\n",
       "      <td>318.0</td>\n",
       "    </tr>\n",
       "    <tr>\n",
       "      <th>1</th>\n",
       "      <td>2.0</td>\n",
       "      <td>ICBC</td>\n",
       "      <td>China</td>\n",
       "      <td>208130.0</td>\n",
       "      <td>54030.0</td>\n",
       "      <td>5518510.0</td>\n",
       "      <td>214430.0</td>\n",
       "      <td>NaN</td>\n",
       "      <td>1984.0</td>\n",
       "      <td>Beijing</td>\n",
       "      <td>Liao Lin</td>\n",
       "      <td>434089.0</td>\n",
       "      <td>NaN</td>\n",
       "    </tr>\n",
       "    <tr>\n",
       "      <th>2</th>\n",
       "      <td>3.0</td>\n",
       "      <td>Saudi Arabian Oil Company (Saudi Aramco)</td>\n",
       "      <td>Saudi Arabia</td>\n",
       "      <td>400380.0</td>\n",
       "      <td>105360.0</td>\n",
       "      <td>576040.0</td>\n",
       "      <td>2292080.0</td>\n",
       "      <td>Oil &amp; Gas Operations</td>\n",
       "      <td>1933.0</td>\n",
       "      <td>Dhahran</td>\n",
       "      <td>Amin bin Hasan Al-Nasser</td>\n",
       "      <td>68493.0</td>\n",
       "      <td>NaN</td>\n",
       "    </tr>\n",
       "    <tr>\n",
       "      <th>3</th>\n",
       "      <td>4.0</td>\n",
       "      <td>JPMorgan Chase</td>\n",
       "      <td>United States</td>\n",
       "      <td>124540.0</td>\n",
       "      <td>42120.0</td>\n",
       "      <td>3954690.0</td>\n",
       "      <td>374450.0</td>\n",
       "      <td>Banking</td>\n",
       "      <td>2000.0</td>\n",
       "      <td>New York, New York</td>\n",
       "      <td>Jamie Dimon</td>\n",
       "      <td>270000.0</td>\n",
       "      <td>128.9</td>\n",
       "    </tr>\n",
       "    <tr>\n",
       "      <th>4</th>\n",
       "      <td>5.0</td>\n",
       "      <td>China Construction Bank</td>\n",
       "      <td>China</td>\n",
       "      <td>202070.0</td>\n",
       "      <td>46890.0</td>\n",
       "      <td>4746950.0</td>\n",
       "      <td>181320.0</td>\n",
       "      <td>NaN</td>\n",
       "      <td>1954.0</td>\n",
       "      <td>Beijing</td>\n",
       "      <td>Jinliang Zhang</td>\n",
       "      <td>347319.0</td>\n",
       "      <td>NaN</td>\n",
       "    </tr>\n",
       "  </tbody>\n",
       "</table>\n",
       "</div>"
      ],
      "text/plain": [
       "   rank                                      name        country     sales  \\\n",
       "0   1.0                        Berkshire Hathaway  United States  276090.0   \n",
       "1   2.0                                      ICBC          China  208130.0   \n",
       "2   3.0  Saudi Arabian Oil Company (Saudi Aramco)   Saudi Arabia  400380.0   \n",
       "3   4.0                            JPMorgan Chase  United States  124540.0   \n",
       "4   5.0                   China Construction Bank          China  202070.0   \n",
       "\n",
       "     profit     assets         MV                Industry  Founded  \\\n",
       "0   89800.0   958780.0   741480.0  Diversified Financials   1939.0   \n",
       "1   54030.0  5518510.0   214430.0                     NaN   1984.0   \n",
       "2  105360.0   576040.0  2292080.0    Oil & Gas Operations   1933.0   \n",
       "3   42120.0  3954690.0   374450.0                 Banking   2000.0   \n",
       "4   46890.0  4746950.0   181320.0                     NaN   1954.0   \n",
       "\n",
       "          Headquaters                       CEO  Employees  Share price  \n",
       "0     Omaha, Nebraska     Warren Edward Buffett   372000.0        318.0  \n",
       "1             Beijing                  Liao Lin   434089.0          NaN  \n",
       "2             Dhahran  Amin bin Hasan Al-Nasser    68493.0          NaN  \n",
       "3  New York, New York               Jamie Dimon   270000.0        128.9  \n",
       "4             Beijing            Jinliang Zhang   347319.0          NaN  "
      ]
     },
     "execution_count": 11,
     "metadata": {},
     "output_type": "execute_result"
    }
   ],
   "source": [
    "data = data.drop(columns = ['sales MB','assets MB','profit MB','MV MB'])\n",
    "data.head()"
   ]
  },
  {
   "cell_type": "markdown",
   "metadata": {
    "id": "VbLaqOdN5Qza"
   },
   "source": [
    "Также в таблице есть колонки, которые не несут в себе никакой важной информации (ни директор компании, ни местоположения главного офиса ни на что не влияют). Колонки, которые просто держат в курсе, нам не нужны, поэтому удаляем их."
   ]
  },
  {
   "cell_type": "code",
   "execution_count": 12,
   "metadata": {
    "executionInfo": {
     "elapsed": 3,
     "status": "ok",
     "timestamp": 1686234161265,
     "user": {
      "displayName": "Галина Рафикова",
      "userId": "13301022344808824546"
     },
     "user_tz": -180
    },
    "id": "Y7h9vtx9Xdy2"
   },
   "outputs": [],
   "source": [
    "data = data.drop(columns = ['Headquaters', 'CEO'])"
   ]
  },
  {
   "cell_type": "markdown",
   "metadata": {
    "id": "f26T2kS85mlS"
   },
   "source": [
    "Посмотрим на пропуски"
   ]
  },
  {
   "cell_type": "code",
   "execution_count": 13,
   "metadata": {
    "colab": {
     "base_uri": "https://localhost:8080/"
    },
    "executionInfo": {
     "elapsed": 5,
     "status": "ok",
     "timestamp": 1686234162813,
     "user": {
      "displayName": "Галина Рафикова",
      "userId": "13301022344808824546"
     },
     "user_tz": -180
    },
    "id": "oEwtojJQXguE",
    "outputId": "277b611f-dce5-4eef-efa6-e4d04871d103"
   },
   "outputs": [
    {
     "data": {
      "text/plain": [
       "rank              0\n",
       "name              0\n",
       "country           0\n",
       "sales             0\n",
       "profit            0\n",
       "assets            0\n",
       "MV                0\n",
       "Industry        110\n",
       "Founded           1\n",
       "Employees         1\n",
       "Share price    1096\n",
       "dtype: int64"
      ]
     },
     "execution_count": 13,
     "metadata": {},
     "output_type": "execute_result"
    }
   ],
   "source": [
    "data.isnull().sum() #удалю строки, в которых не указана Industry, Founded или Employees, т.к. они важны для анализа"
   ]
  },
  {
   "cell_type": "code",
   "execution_count": 14,
   "metadata": {
    "executionInfo": {
     "elapsed": 2,
     "status": "ok",
     "timestamp": 1686234163730,
     "user": {
      "displayName": "Галина Рафикова",
      "userId": "13301022344808824546"
     },
     "user_tz": -180
    },
    "id": "6eIClrlrXhe4"
   },
   "outputs": [],
   "source": [
    "data = data.dropna(subset = ['Industry', 'Founded', 'Employees'])"
   ]
  },
  {
   "cell_type": "code",
   "execution_count": 15,
   "metadata": {
    "executionInfo": {
     "elapsed": 6,
     "status": "ok",
     "timestamp": 1686234164567,
     "user": {
      "displayName": "Галина Рафикова",
      "userId": "13301022344808824546"
     },
     "user_tz": -180
    },
    "id": "A56URQYoXj4W"
   },
   "outputs": [],
   "source": [
    "data['rank'] = data['rank'].astype('int')#перевожу в int просто чтоб красиво было, без десятых долей\n",
    "data['Founded'] = data['Founded'].astype('int')"
   ]
  },
  {
   "cell_type": "markdown",
   "metadata": {
    "id": "3SHWgK1y53Zv"
   },
   "source": [
    "В колонке \"Share price\" очень много пропусков. ЕЕ тоже удаляю."
   ]
  },
  {
   "cell_type": "code",
   "execution_count": 16,
   "metadata": {
    "colab": {
     "base_uri": "https://localhost:8080/"
    },
    "executionInfo": {
     "elapsed": 228,
     "status": "ok",
     "timestamp": 1686234166310,
     "user": {
      "displayName": "Галина Рафикова",
      "userId": "13301022344808824546"
     },
     "user_tz": -180
    },
    "id": "1mvvCzU6XnrL",
    "outputId": "3233163d-011e-47ad-881e-b3686e15ee99"
   },
   "outputs": [
    {
     "name": "stderr",
     "output_type": "stream",
     "text": [
      "C:\\Users\\1\\AppData\\Local\\Temp/ipykernel_59504/625060571.py:1: FutureWarning: In a future version of pandas all arguments of DataFrame.drop except for the argument 'labels' will be keyword-only.\n",
      "  data = data.drop('Share price', 1)\n"
     ]
    }
   ],
   "source": [
    "data = data.drop('Share price', 1)"
   ]
  },
  {
   "cell_type": "markdown",
   "metadata": {
    "id": "LYUFF8p_6NNR"
   },
   "source": [
    "В колонке \"Industry\" есть некоторые категории,которые дублируются (например, 'E-commerce' и 'E-Commerce). Надо это устранить)"
   ]
  },
  {
   "cell_type": "code",
   "execution_count": 17,
   "metadata": {
    "colab": {
     "base_uri": "https://localhost:8080/"
    },
    "executionInfo": {
     "elapsed": 6,
     "status": "ok",
     "timestamp": 1686234168344,
     "user": {
      "displayName": "Галина Рафикова",
      "userId": "13301022344808824546"
     },
     "user_tz": -180
    },
    "id": "BmeK0v7w1mJl",
    "outputId": "85478762-9142-455d-a409-c9d372e4651f"
   },
   "outputs": [
    {
     "data": {
      "text/plain": [
       "{'Aerospace & Defense',\n",
       " 'Airlines',\n",
       " 'Alcoholic Beverages',\n",
       " 'Appliances',\n",
       " 'Auto Brands',\n",
       " 'Auto Repair & Maintenance',\n",
       " 'Automotive',\n",
       " 'Automotive (Automotive and Suppliers)',\n",
       " 'Banking',\n",
       " 'Banking and Financial Services',\n",
       " 'Beverages',\n",
       " 'Business Products & Software Services',\n",
       " 'Business Services & Supplies',\n",
       " 'Capital Goods',\n",
       " 'Casinos & Resorts',\n",
       " 'Cereals',\n",
       " 'Chemicals',\n",
       " 'Clothing, Shoes, Sports Equipment',\n",
       " 'Conglomerate',\n",
       " 'Conglomerates',\n",
       " 'Construction',\n",
       " 'Construction, Oil & Gas Operations, Mining and Chemicals',\n",
       " 'Consumer Durables',\n",
       " 'Credit Card Companies',\n",
       " 'Cruise Lines',\n",
       " 'Department Stores',\n",
       " 'Diversified Financials',\n",
       " 'Drugs & Biotechnology',\n",
       " 'Drugs & Biotechnology ',\n",
       " 'E-Commerce',\n",
       " 'E-commerce',\n",
       " 'Electronics',\n",
       " 'Engineering, Manufacturing',\n",
       " 'Fashion, Apparel, Shoes',\n",
       " 'Food & Drink',\n",
       " 'Food Markets',\n",
       " 'Food, Drink & Tobacco',\n",
       " 'Food, Drink and Tobacco',\n",
       " 'Food, Soft Beverages, Alcohol & Tobacco',\n",
       " 'Food, Soft Beverages, Alcohol & Tobacco (including agriculture production)',\n",
       " 'Grocery',\n",
       " 'Health Care Equipment & Services',\n",
       " 'Health, Beauty, Wellness',\n",
       " 'Home Improvement',\n",
       " 'Hotels',\n",
       " 'Hotels, Restaurants & Leisure',\n",
       " 'Household & Personal Products',\n",
       " 'IT Software & Services',\n",
       " 'IT, Internet, Software & Services',\n",
       " 'Insurance',\n",
       " 'Materials',\n",
       " 'Media',\n",
       " 'Media & Advertising',\n",
       " 'Oil & Gas Operations',\n",
       " 'Packaged Goods',\n",
       " 'Pharmacies',\n",
       " 'Restaurants',\n",
       " 'Retail and Wholesale',\n",
       " 'Retailing',\n",
       " 'Semiconductors',\n",
       " 'Semiconductors, Electronics, Electrical Engineering, Technology Hardware & Equipment',\n",
       " 'Specialty',\n",
       " 'Superstores',\n",
       " 'Technology Hardware & Equipment',\n",
       " 'Telecommunications Services',\n",
       " 'Telecommunications Services, Cable Supplier',\n",
       " 'Trading Companies',\n",
       " 'Transportation',\n",
       " 'Transportation & Logistics',\n",
       " 'Transportation and Logistics',\n",
       " 'Travel & Leisure',\n",
       " 'Travel & Leisure\\xa0\\xa0\\xa0\\xa0\\xa0\\xa0',\n",
       " 'Utilities',\n",
       " 'Video Games'}"
      ]
     },
     "execution_count": 17,
     "metadata": {},
     "output_type": "execute_result"
    }
   ],
   "source": [
    "set(data['Industry']) "
   ]
  },
  {
   "cell_type": "code",
   "execution_count": 18,
   "metadata": {
    "executionInfo": {
     "elapsed": 246,
     "status": "ok",
     "timestamp": 1686234169755,
     "user": {
      "displayName": "Галина Рафикова",
      "userId": "13301022344808824546"
     },
     "user_tz": -180
    },
    "id": "iMtl_3p51rb1"
   },
   "outputs": [],
   "source": [
    "data['Industry'] = data['Industry'].apply(lambda x: x.replace('Automotive (Automotive and Suppliers)', 'Automotive'))\n",
    "data['Industry'] = data['Industry'].apply(lambda x: x.replace('Drugs & Biotechnology ', 'Drugs & Biotechnology'))\n",
    "data['Industry'] = data['Industry'].apply(lambda x: x.replace('Conglomerates', 'Conglomerate'))\n",
    "data['Industry'] = data['Industry'].apply(lambda x: x.replace('E-commerce', 'E-Commerce'))\n",
    "data['Industry'] = data['Industry'].apply(lambda x: x.replace('Food, Drink and Tobacco', 'Food, Drink & Tobacco'))\n",
    "data['Industry'] = data['Industry'].apply(lambda x: x.replace('Food, Soft Beverages, Alcohol & Tobacco (including agriculture production)', 'Food, Drink & Tobacco'))\n",
    "data['Industry'] = data['Industry'].apply(lambda x: x.replace('Transportation and Logistics', 'Transportation & Logistics'))\n",
    "data['Industry'] = data['Industry'].apply(lambda x: x.replace('Travel & Leisure\\xa0\\xa0\\xa0\\xa0\\xa0\\xa0', 'Travel & Leisure'))"
   ]
  },
  {
   "cell_type": "markdown",
   "metadata": {
    "id": "qmmb5-qD6Ze0"
   },
   "source": [
    "Для красоты сделаем все названия колонок с заглавной буквы"
   ]
  },
  {
   "cell_type": "code",
   "execution_count": 19,
   "metadata": {
    "executionInfo": {
     "elapsed": 263,
     "status": "ok",
     "timestamp": 1686234172341,
     "user": {
      "displayName": "Галина Рафикова",
      "userId": "13301022344808824546"
     },
     "user_tz": -180
    },
    "id": "VnolDTyu3j_Z"
   },
   "outputs": [],
   "source": [
    "data.rename(columns = {'rank':'Rank', 'name':'Name', 'country':'Country','sales':'Sales', 'profit':'Profit', 'assets':'Assets'}, inplace = True )"
   ]
  },
  {
   "cell_type": "code",
   "execution_count": 20,
   "metadata": {
    "executionInfo": {
     "elapsed": 2,
     "status": "ok",
     "timestamp": 1686234174786,
     "user": {
      "displayName": "Галина Рафикова",
      "userId": "13301022344808824546"
     },
     "user_tz": -180
    },
    "id": "cVGxD2OjtkT-"
   },
   "outputs": [],
   "source": [
    "data[\"Company age\"]=2023 - data['Founded']#создадим колонку с возрастом компаний"
   ]
  },
  {
   "cell_type": "code",
   "execution_count": 21,
   "metadata": {
    "colab": {
     "base_uri": "https://localhost:8080/",
     "height": 624
    },
    "executionInfo": {
     "elapsed": 16,
     "status": "ok",
     "timestamp": 1686234176896,
     "user": {
      "displayName": "Галина Рафикова",
      "userId": "13301022344808824546"
     },
     "user_tz": -180
    },
    "id": "CFvGSJl6t1iy",
    "outputId": "79baed37-864e-4d9e-981d-0a3421819c6f"
   },
   "outputs": [
    {
     "data": {
      "text/html": [
       "<div>\n",
       "<style scoped>\n",
       "    .dataframe tbody tr th:only-of-type {\n",
       "        vertical-align: middle;\n",
       "    }\n",
       "\n",
       "    .dataframe tbody tr th {\n",
       "        vertical-align: top;\n",
       "    }\n",
       "\n",
       "    .dataframe thead th {\n",
       "        text-align: right;\n",
       "    }\n",
       "</style>\n",
       "<table border=\"1\" class=\"dataframe\">\n",
       "  <thead>\n",
       "    <tr style=\"text-align: right;\">\n",
       "      <th></th>\n",
       "      <th>Rank</th>\n",
       "      <th>Name</th>\n",
       "      <th>Country</th>\n",
       "      <th>Sales</th>\n",
       "      <th>Profit</th>\n",
       "      <th>Assets</th>\n",
       "      <th>MV</th>\n",
       "      <th>Industry</th>\n",
       "      <th>Founded</th>\n",
       "      <th>Employees</th>\n",
       "      <th>Company age</th>\n",
       "      <th>World</th>\n",
       "    </tr>\n",
       "  </thead>\n",
       "  <tbody>\n",
       "    <tr>\n",
       "      <th>0</th>\n",
       "      <td>1</td>\n",
       "      <td>Berkshire Hathaway</td>\n",
       "      <td>United States</td>\n",
       "      <td>276090.0</td>\n",
       "      <td>89800.0</td>\n",
       "      <td>958780.0</td>\n",
       "      <td>741480.0</td>\n",
       "      <td>Diversified Financials</td>\n",
       "      <td>1939</td>\n",
       "      <td>372000.0</td>\n",
       "      <td>84</td>\n",
       "      <td>North America</td>\n",
       "    </tr>\n",
       "    <tr>\n",
       "      <th>2</th>\n",
       "      <td>3</td>\n",
       "      <td>Saudi Arabian Oil Company (Saudi Aramco)</td>\n",
       "      <td>Saudi Arabia</td>\n",
       "      <td>400380.0</td>\n",
       "      <td>105360.0</td>\n",
       "      <td>576040.0</td>\n",
       "      <td>2292080.0</td>\n",
       "      <td>Oil &amp; Gas Operations</td>\n",
       "      <td>1933</td>\n",
       "      <td>68493.0</td>\n",
       "      <td>90</td>\n",
       "      <td>Asia</td>\n",
       "    </tr>\n",
       "    <tr>\n",
       "      <th>3</th>\n",
       "      <td>4</td>\n",
       "      <td>JPMorgan Chase</td>\n",
       "      <td>United States</td>\n",
       "      <td>124540.0</td>\n",
       "      <td>42120.0</td>\n",
       "      <td>3954690.0</td>\n",
       "      <td>374450.0</td>\n",
       "      <td>Banking</td>\n",
       "      <td>2000</td>\n",
       "      <td>270000.0</td>\n",
       "      <td>23</td>\n",
       "      <td>North America</td>\n",
       "    </tr>\n",
       "    <tr>\n",
       "      <th>5</th>\n",
       "      <td>6</td>\n",
       "      <td>Amazon</td>\n",
       "      <td>United States</td>\n",
       "      <td>469820.0</td>\n",
       "      <td>33360.0</td>\n",
       "      <td>420550.0</td>\n",
       "      <td>1468400.0</td>\n",
       "      <td>E-Commerce</td>\n",
       "      <td>1994</td>\n",
       "      <td>1608000.0</td>\n",
       "      <td>29</td>\n",
       "      <td>North America</td>\n",
       "    </tr>\n",
       "    <tr>\n",
       "      <th>6</th>\n",
       "      <td>7</td>\n",
       "      <td>Apple</td>\n",
       "      <td>United States</td>\n",
       "      <td>378700.0</td>\n",
       "      <td>100560.0</td>\n",
       "      <td>381190.0</td>\n",
       "      <td>2640320.0</td>\n",
       "      <td>Electronics</td>\n",
       "      <td>1976</td>\n",
       "      <td>164000.0</td>\n",
       "      <td>47</td>\n",
       "      <td>North America</td>\n",
       "    </tr>\n",
       "    <tr>\n",
       "      <th>...</th>\n",
       "      <td>...</td>\n",
       "      <td>...</td>\n",
       "      <td>...</td>\n",
       "      <td>...</td>\n",
       "      <td>...</td>\n",
       "      <td>...</td>\n",
       "      <td>...</td>\n",
       "      <td>...</td>\n",
       "      <td>...</td>\n",
       "      <td>...</td>\n",
       "      <td>...</td>\n",
       "      <td>...</td>\n",
       "    </tr>\n",
       "    <tr>\n",
       "      <th>1710</th>\n",
       "      <td>1993</td>\n",
       "      <td>Onex</td>\n",
       "      <td>Canada</td>\n",
       "      <td>336.0</td>\n",
       "      <td>1410.0</td>\n",
       "      <td>12460.0</td>\n",
       "      <td>5250.0</td>\n",
       "      <td>Diversified Financials</td>\n",
       "      <td>1980</td>\n",
       "      <td>536.0</td>\n",
       "      <td>43</td>\n",
       "      <td>North America</td>\n",
       "    </tr>\n",
       "    <tr>\n",
       "      <th>1711</th>\n",
       "      <td>1995</td>\n",
       "      <td>Shenzhen Feima International Supply Chain</td>\n",
       "      <td>China</td>\n",
       "      <td>37.0</td>\n",
       "      <td>1410.0</td>\n",
       "      <td>166.0</td>\n",
       "      <td>1140.0</td>\n",
       "      <td>Business Services &amp; Supplies</td>\n",
       "      <td>1998</td>\n",
       "      <td>306.0</td>\n",
       "      <td>25</td>\n",
       "      <td>Asia</td>\n",
       "    </tr>\n",
       "    <tr>\n",
       "      <th>1712</th>\n",
       "      <td>1997</td>\n",
       "      <td>NMDC</td>\n",
       "      <td>India</td>\n",
       "      <td>3520.0</td>\n",
       "      <td>1410.0</td>\n",
       "      <td>5710.0</td>\n",
       "      <td>6400.0</td>\n",
       "      <td>Materials</td>\n",
       "      <td>1958</td>\n",
       "      <td>16944.0</td>\n",
       "      <td>65</td>\n",
       "      <td>Asia</td>\n",
       "    </tr>\n",
       "    <tr>\n",
       "      <th>1713</th>\n",
       "      <td>1997</td>\n",
       "      <td>Sichuan Changhong Electric</td>\n",
       "      <td>China</td>\n",
       "      <td>15720.0</td>\n",
       "      <td>53.1</td>\n",
       "      <td>12110.0</td>\n",
       "      <td>1960.0</td>\n",
       "      <td>Consumer Durables</td>\n",
       "      <td>1988</td>\n",
       "      <td>51841.0</td>\n",
       "      <td>35</td>\n",
       "      <td>Asia</td>\n",
       "    </tr>\n",
       "    <tr>\n",
       "      <th>1714</th>\n",
       "      <td>2000</td>\n",
       "      <td>Sun Communities</td>\n",
       "      <td>United States</td>\n",
       "      <td>2270.0</td>\n",
       "      <td>375.7</td>\n",
       "      <td>13490.0</td>\n",
       "      <td>21710.0</td>\n",
       "      <td>Business Services &amp; Supplies</td>\n",
       "      <td>1975</td>\n",
       "      <td>45000.0</td>\n",
       "      <td>48</td>\n",
       "      <td>North America</td>\n",
       "    </tr>\n",
       "  </tbody>\n",
       "</table>\n",
       "<p>1605 rows × 12 columns</p>\n",
       "</div>"
      ],
      "text/plain": [
       "      Rank                                       Name        Country  \\\n",
       "0        1                         Berkshire Hathaway  United States   \n",
       "2        3   Saudi Arabian Oil Company (Saudi Aramco)   Saudi Arabia   \n",
       "3        4                             JPMorgan Chase  United States   \n",
       "5        6                                     Amazon  United States   \n",
       "6        7                                      Apple  United States   \n",
       "...    ...                                        ...            ...   \n",
       "1710  1993                                       Onex         Canada   \n",
       "1711  1995  Shenzhen Feima International Supply Chain          China   \n",
       "1712  1997                                       NMDC          India   \n",
       "1713  1997                 Sichuan Changhong Electric          China   \n",
       "1714  2000                            Sun Communities  United States   \n",
       "\n",
       "         Sales    Profit     Assets         MV                      Industry  \\\n",
       "0     276090.0   89800.0   958780.0   741480.0        Diversified Financials   \n",
       "2     400380.0  105360.0   576040.0  2292080.0          Oil & Gas Operations   \n",
       "3     124540.0   42120.0  3954690.0   374450.0                       Banking   \n",
       "5     469820.0   33360.0   420550.0  1468400.0                    E-Commerce   \n",
       "6     378700.0  100560.0   381190.0  2640320.0                   Electronics   \n",
       "...        ...       ...        ...        ...                           ...   \n",
       "1710     336.0    1410.0    12460.0     5250.0        Diversified Financials   \n",
       "1711      37.0    1410.0      166.0     1140.0  Business Services & Supplies   \n",
       "1712    3520.0    1410.0     5710.0     6400.0                     Materials   \n",
       "1713   15720.0      53.1    12110.0     1960.0             Consumer Durables   \n",
       "1714    2270.0     375.7    13490.0    21710.0  Business Services & Supplies   \n",
       "\n",
       "      Founded  Employees  Company age          World  \n",
       "0        1939   372000.0           84  North America  \n",
       "2        1933    68493.0           90           Asia  \n",
       "3        2000   270000.0           23  North America  \n",
       "5        1994  1608000.0           29  North America  \n",
       "6        1976   164000.0           47  North America  \n",
       "...       ...        ...          ...            ...  \n",
       "1710     1980      536.0           43  North America  \n",
       "1711     1998      306.0           25           Asia  \n",
       "1712     1958    16944.0           65           Asia  \n",
       "1713     1988    51841.0           35           Asia  \n",
       "1714     1975    45000.0           48  North America  \n",
       "\n",
       "[1605 rows x 12 columns]"
      ]
     },
     "execution_count": 21,
     "metadata": {},
     "output_type": "execute_result"
    }
   ],
   "source": [
    "def world(c): #создадим колонку с частями света\n",
    "    conditions = [(c == 'Australia'), \n",
    "     (c == 'Austria')|(c=='Belgium') | (c == 'Czech Republic') | (c == 'Denmark') | (c == 'Finland') | (c == 'France') | (c == 'Germany') | (c == 'Greece' ) | (c == 'Hungary') |\n",
    "     (c == 'Ireland')  | (c == 'Italy' ) | (c == 'Luxembourg' ) | (c =='Netherlands') | (c == 'Norway') | (c == 'Poland' ) | (c == 'Portugal') | (c == 'Spain' ) | (c == 'Sweden' ) | (c =='Switzerland') | (c == 'United Kingdom') , \n",
    "      (c == 'Bahrain')|(c == 'China') | (c == 'Hong Kong')| (c ==  'India') | (c == 'Indonesia' ) | (c == 'Israel' ) | (c == 'Japan' )| (c == 'Kazakhstan') | (c == 'Kuwait') | \n",
    "       (c == 'Malaysia') | (c == 'Philippines' ) | (c == 'Qatar' ) | (c == 'Russia' ) | (c == 'Saudi Arabia' ) | (c == 'Singapore' ) | (c == 'South Korea' ) | (c == 'Taiwan') | (c == 'Thailand' ) | \n",
    "        (c == 'Turkey') | (c == 'United Arab Emirates') | (c == 'Vietnam'), \n",
    "       (c == 'Bermuda') | (c == 'Canada') | (c == 'Cayman Islands') | (c == 'United States' ), \n",
    "        (c == 'Brazil')|(c=='Chile')| (c == 'Colombia') | (c == 'Mexico' ) | (c == 'Peru')| (c == 'Uruguay' ),\n",
    "        (c == 'Egypt')| (c == 'Morocco' ) | (c == 'Nigeria' ) | (c == 'South Africa' )]\n",
    "    values = ['Australia', 'Europe','Asia','North America','South America','Africa']\n",
    "    data['World'] = np.select(conditions, values)\n",
    "world(data['Country'])\n",
    "data"
   ]
  },
  {
   "cell_type": "code",
   "execution_count": 23,
   "metadata": {
    "executionInfo": {
     "elapsed": 266,
     "status": "ok",
     "timestamp": 1686234180309,
     "user": {
      "displayName": "Галина Рафикова",
      "userId": "13301022344808824546"
     },
     "user_tz": -180
    },
    "id": "lUkwuKWI1wo9"
   },
   "outputs": [],
   "source": [
    "data.to_csv('forbes_new.csv', sep=',', index=False)"
   ]
  },
  {
   "cell_type": "code",
   "execution_count": 24,
   "metadata": {
    "colab": {
     "base_uri": "https://localhost:8080/",
     "height": 250
    },
    "executionInfo": {
     "elapsed": 248,
     "status": "ok",
     "timestamp": 1686234205008,
     "user": {
      "displayName": "Галина Рафикова",
      "userId": "13301022344808824546"
     },
     "user_tz": -180
    },
    "id": "qE8DSQRBVs8A",
    "outputId": "d3a27860-0c7e-4d63-b7d4-4ffea082b0ce"
   },
   "outputs": [
    {
     "data": {
      "text/html": [
       "<div>\n",
       "<style scoped>\n",
       "    .dataframe tbody tr th:only-of-type {\n",
       "        vertical-align: middle;\n",
       "    }\n",
       "\n",
       "    .dataframe tbody tr th {\n",
       "        vertical-align: top;\n",
       "    }\n",
       "\n",
       "    .dataframe thead th {\n",
       "        text-align: right;\n",
       "    }\n",
       "</style>\n",
       "<table border=\"1\" class=\"dataframe\">\n",
       "  <thead>\n",
       "    <tr style=\"text-align: right;\">\n",
       "      <th></th>\n",
       "      <th>Rank</th>\n",
       "      <th>Name</th>\n",
       "      <th>Country</th>\n",
       "      <th>Sales</th>\n",
       "      <th>Profit</th>\n",
       "      <th>Assets</th>\n",
       "      <th>MV</th>\n",
       "      <th>Industry</th>\n",
       "      <th>Founded</th>\n",
       "      <th>Employees</th>\n",
       "      <th>Company age</th>\n",
       "      <th>World</th>\n",
       "    </tr>\n",
       "  </thead>\n",
       "  <tbody>\n",
       "    <tr>\n",
       "      <th>0</th>\n",
       "      <td>1</td>\n",
       "      <td>Berkshire Hathaway</td>\n",
       "      <td>United States</td>\n",
       "      <td>276090.0</td>\n",
       "      <td>89800.0</td>\n",
       "      <td>958780.0</td>\n",
       "      <td>741480.0</td>\n",
       "      <td>Diversified Financials</td>\n",
       "      <td>1939</td>\n",
       "      <td>372000.0</td>\n",
       "      <td>84</td>\n",
       "      <td>North America</td>\n",
       "    </tr>\n",
       "    <tr>\n",
       "      <th>1</th>\n",
       "      <td>3</td>\n",
       "      <td>Saudi Arabian Oil Company (Saudi Aramco)</td>\n",
       "      <td>Saudi Arabia</td>\n",
       "      <td>400380.0</td>\n",
       "      <td>105360.0</td>\n",
       "      <td>576040.0</td>\n",
       "      <td>2292080.0</td>\n",
       "      <td>Oil &amp; Gas Operations</td>\n",
       "      <td>1933</td>\n",
       "      <td>68493.0</td>\n",
       "      <td>90</td>\n",
       "      <td>Asia</td>\n",
       "    </tr>\n",
       "    <tr>\n",
       "      <th>2</th>\n",
       "      <td>4</td>\n",
       "      <td>JPMorgan Chase</td>\n",
       "      <td>United States</td>\n",
       "      <td>124540.0</td>\n",
       "      <td>42120.0</td>\n",
       "      <td>3954690.0</td>\n",
       "      <td>374450.0</td>\n",
       "      <td>Banking</td>\n",
       "      <td>2000</td>\n",
       "      <td>270000.0</td>\n",
       "      <td>23</td>\n",
       "      <td>North America</td>\n",
       "    </tr>\n",
       "    <tr>\n",
       "      <th>3</th>\n",
       "      <td>6</td>\n",
       "      <td>Amazon</td>\n",
       "      <td>United States</td>\n",
       "      <td>469820.0</td>\n",
       "      <td>33360.0</td>\n",
       "      <td>420550.0</td>\n",
       "      <td>1468400.0</td>\n",
       "      <td>E-Commerce</td>\n",
       "      <td>1994</td>\n",
       "      <td>1608000.0</td>\n",
       "      <td>29</td>\n",
       "      <td>North America</td>\n",
       "    </tr>\n",
       "    <tr>\n",
       "      <th>4</th>\n",
       "      <td>7</td>\n",
       "      <td>Apple</td>\n",
       "      <td>United States</td>\n",
       "      <td>378700.0</td>\n",
       "      <td>100560.0</td>\n",
       "      <td>381190.0</td>\n",
       "      <td>2640320.0</td>\n",
       "      <td>Electronics</td>\n",
       "      <td>1976</td>\n",
       "      <td>164000.0</td>\n",
       "      <td>47</td>\n",
       "      <td>North America</td>\n",
       "    </tr>\n",
       "  </tbody>\n",
       "</table>\n",
       "</div>"
      ],
      "text/plain": [
       "   Rank                                      Name        Country     Sales  \\\n",
       "0     1                        Berkshire Hathaway  United States  276090.0   \n",
       "1     3  Saudi Arabian Oil Company (Saudi Aramco)   Saudi Arabia  400380.0   \n",
       "2     4                            JPMorgan Chase  United States  124540.0   \n",
       "3     6                                    Amazon  United States  469820.0   \n",
       "4     7                                     Apple  United States  378700.0   \n",
       "\n",
       "     Profit     Assets         MV                Industry  Founded  Employees  \\\n",
       "0   89800.0   958780.0   741480.0  Diversified Financials     1939   372000.0   \n",
       "1  105360.0   576040.0  2292080.0    Oil & Gas Operations     1933    68493.0   \n",
       "2   42120.0  3954690.0   374450.0                 Banking     2000   270000.0   \n",
       "3   33360.0   420550.0  1468400.0              E-Commerce     1994  1608000.0   \n",
       "4  100560.0   381190.0  2640320.0             Electronics     1976   164000.0   \n",
       "\n",
       "   Company age          World  \n",
       "0           84  North America  \n",
       "1           90           Asia  \n",
       "2           23  North America  \n",
       "3           29  North America  \n",
       "4           47  North America  "
      ]
     },
     "execution_count": 24,
     "metadata": {},
     "output_type": "execute_result"
    }
   ],
   "source": [
    "data = pd.read_csv('forbes_new.csv')\n",
    "data.head()"
   ]
  }
 ],
 "metadata": {
  "colab": {
   "provenance": []
  },
  "kernelspec": {
   "display_name": "Python 3 (ipykernel)",
   "language": "python",
   "name": "python3"
  },
  "language_info": {
   "codemirror_mode": {
    "name": "ipython",
    "version": 3
   },
   "file_extension": ".py",
   "mimetype": "text/x-python",
   "name": "python",
   "nbconvert_exporter": "python",
   "pygments_lexer": "ipython3",
   "version": "3.9.7"
  }
 },
 "nbformat": 4,
 "nbformat_minor": 1
}
